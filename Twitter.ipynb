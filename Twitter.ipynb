{
  "cells": [
    {
      "cell_type": "code",
      "execution_count": null,
      "metadata": {
        "colab": {
          "base_uri": "https://localhost:8080/",
          "height": 1000
        },
        "id": "MfkZ2ZH4Ltgt",
        "outputId": "1bb3a598-261e-4719-8bbe-38e121c5b6e1"
      },
      "outputs": [
        {
          "output_type": "stream",
          "name": "stdout",
          "text": [
            "Error: Command '['/content/tutorial-env/bin/python3', '-Im', 'ensurepip', '--upgrade', '--default-pip']' returned non-zero exit status 1.\n",
            "/bin/bash: tutorial-env/bin/activate: No such file or directory\n",
            "Looking in indexes: https://pypi.org/simple, https://us-python.pkg.dev/colab-wheels/public/simple/\n",
            "Requirement already satisfied: pip in /usr/local/lib/python3.7/dist-packages (21.1.3)\n",
            "Collecting pip\n",
            "  Downloading pip-22.1.1-py3-none-any.whl (2.1 MB)\n",
            "\u001b[K     |████████████████████████████████| 2.1 MB 22.8 MB/s \n",
            "\u001b[?25hRequirement already satisfied: setuptools in /usr/local/lib/python3.7/dist-packages (57.4.0)\n",
            "Collecting setuptools\n",
            "  Downloading setuptools-62.3.2-py3-none-any.whl (1.2 MB)\n",
            "\u001b[K     |████████████████████████████████| 1.2 MB 53.9 MB/s \n",
            "\u001b[?25hRequirement already satisfied: wheel in /usr/local/lib/python3.7/dist-packages (0.37.1)\n",
            "Installing collected packages: setuptools, pip\n",
            "  Attempting uninstall: setuptools\n",
            "    Found existing installation: setuptools 57.4.0\n",
            "    Uninstalling setuptools-57.4.0:\n",
            "      Successfully uninstalled setuptools-57.4.0\n",
            "  Attempting uninstall: pip\n",
            "    Found existing installation: pip 21.1.3\n",
            "    Uninstalling pip-21.1.3:\n",
            "      Successfully uninstalled pip-21.1.3\n",
            "\u001b[31mERROR: pip's dependency resolver does not currently take into account all the packages that are installed. This behaviour is the source of the following dependency conflicts.\n",
            "tensorflow 2.8.0+zzzcolab20220506162203 requires tf-estimator-nightly==2.8.0.dev2021122109, which is not installed.\n",
            "datascience 0.10.6 requires folium==0.2.1, but you have folium 0.8.3 which is incompatible.\u001b[0m\n",
            "Successfully installed pip-22.1.1 setuptools-62.3.2\n"
          ]
        },
        {
          "output_type": "display_data",
          "data": {
            "application/vnd.colab-display-data+json": {
              "pip_warning": {
                "packages": [
                  "pkg_resources"
                ]
              }
            }
          },
          "metadata": {}
        },
        {
          "output_type": "stream",
          "name": "stdout",
          "text": [
            "Looking in indexes: https://pypi.org/simple, https://us-python.pkg.dev/colab-wheels/public/simple/\n",
            "Requirement already satisfied: spacy in /usr/local/lib/python3.7/dist-packages (2.2.4)\n",
            "Collecting spacy\n",
            "  Downloading spacy-3.3.0-cp37-cp37m-manylinux_2_17_x86_64.manylinux2014_x86_64.whl (6.2 MB)\n",
            "\u001b[2K     \u001b[90m━━━━━━━━━━━━━━━━━━━━━━━━━━━━━━━━━━━━━━━━\u001b[0m \u001b[32m6.2/6.2 MB\u001b[0m \u001b[31m37.1 MB/s\u001b[0m eta \u001b[36m0:00:00\u001b[0m\n",
            "\u001b[?25hCollecting catalogue<2.1.0,>=2.0.6\n",
            "  Downloading catalogue-2.0.7-py3-none-any.whl (17 kB)\n",
            "Requirement already satisfied: preshed<3.1.0,>=3.0.2 in /usr/local/lib/python3.7/dist-packages (from spacy) (3.0.6)\n",
            "Collecting pathy>=0.3.5\n",
            "  Downloading pathy-0.6.1-py3-none-any.whl (42 kB)\n",
            "\u001b[2K     \u001b[90m━━━━━━━━━━━━━━━━━━━━━━━━━━━━━━━━━━━━━━━━\u001b[0m \u001b[32m42.8/42.8 kB\u001b[0m \u001b[31m5.4 MB/s\u001b[0m eta \u001b[36m0:00:00\u001b[0m\n",
            "\u001b[?25hCollecting typer<0.5.0,>=0.3.0\n",
            "  Downloading typer-0.4.1-py3-none-any.whl (27 kB)\n",
            "Requirement already satisfied: cymem<2.1.0,>=2.0.2 in /usr/local/lib/python3.7/dist-packages (from spacy) (2.0.6)\n",
            "Collecting spacy-legacy<3.1.0,>=3.0.9\n",
            "  Downloading spacy_legacy-3.0.9-py2.py3-none-any.whl (20 kB)\n",
            "Requirement already satisfied: requests<3.0.0,>=2.13.0 in /usr/local/lib/python3.7/dist-packages (from spacy) (2.23.0)\n",
            "Requirement already satisfied: murmurhash<1.1.0,>=0.28.0 in /usr/local/lib/python3.7/dist-packages (from spacy) (1.0.7)\n",
            "Requirement already satisfied: numpy>=1.15.0 in /usr/local/lib/python3.7/dist-packages (from spacy) (1.21.6)\n",
            "Collecting thinc<8.1.0,>=8.0.14\n",
            "  Downloading thinc-8.0.16-cp37-cp37m-manylinux_2_17_x86_64.manylinux2014_x86_64.whl (660 kB)\n",
            "\u001b[2K     \u001b[90m━━━━━━━━━━━━━━━━━━━━━━━━━━━━━━━━━━━━━━\u001b[0m \u001b[32m660.6/660.6 kB\u001b[0m \u001b[31m34.2 MB/s\u001b[0m eta \u001b[36m0:00:00\u001b[0m\n",
            "\u001b[?25hRequirement already satisfied: wasabi<1.1.0,>=0.9.1 in /usr/local/lib/python3.7/dist-packages (from spacy) (0.9.1)\n",
            "Requirement already satisfied: blis<0.8.0,>=0.4.0 in /usr/local/lib/python3.7/dist-packages (from spacy) (0.4.1)\n",
            "Collecting srsly<3.0.0,>=2.4.3\n",
            "  Downloading srsly-2.4.3-cp37-cp37m-manylinux_2_17_x86_64.manylinux2014_x86_64.whl (457 kB)\n",
            "\u001b[2K     \u001b[90m━━━━━━━━━━━━━━━━━━━━━━━━━━━━━━━━━━━━━━\u001b[0m \u001b[32m457.1/457.1 kB\u001b[0m \u001b[31m30.5 MB/s\u001b[0m eta \u001b[36m0:00:00\u001b[0m\n",
            "\u001b[?25hCollecting spacy-loggers<2.0.0,>=1.0.0\n",
            "  Downloading spacy_loggers-1.0.2-py3-none-any.whl (7.2 kB)\n",
            "Requirement already satisfied: setuptools in /usr/local/lib/python3.7/dist-packages (from spacy) (62.3.2)\n",
            "Collecting langcodes<4.0.0,>=3.2.0\n",
            "  Downloading langcodes-3.3.0-py3-none-any.whl (181 kB)\n",
            "\u001b[2K     \u001b[90m━━━━━━━━━━━━━━━━━━━━━━━━━━━━━━━━━━━━━━\u001b[0m \u001b[32m181.6/181.6 kB\u001b[0m \u001b[31m10.9 MB/s\u001b[0m eta \u001b[36m0:00:00\u001b[0m\n",
            "\u001b[?25hCollecting typing-extensions<4.0.0.0,>=3.7.4\n",
            "  Downloading typing_extensions-3.10.0.2-py3-none-any.whl (26 kB)\n",
            "Collecting pydantic!=1.8,!=1.8.1,<1.9.0,>=1.7.4\n",
            "  Downloading pydantic-1.8.2-cp37-cp37m-manylinux2014_x86_64.whl (10.1 MB)\n",
            "\u001b[2K     \u001b[90m━━━━━━━━━━━━━━━━━━━━━━━━━━━━━━━━━━━━━━━━\u001b[0m \u001b[32m10.1/10.1 MB\u001b[0m \u001b[31m32.5 MB/s\u001b[0m eta \u001b[36m0:00:00\u001b[0m\n",
            "\u001b[?25hRequirement already satisfied: tqdm<5.0.0,>=4.38.0 in /usr/local/lib/python3.7/dist-packages (from spacy) (4.64.0)\n",
            "Requirement already satisfied: packaging>=20.0 in /usr/local/lib/python3.7/dist-packages (from spacy) (21.3)\n",
            "Requirement already satisfied: jinja2 in /usr/local/lib/python3.7/dist-packages (from spacy) (2.11.3)\n",
            "Requirement already satisfied: zipp>=0.5 in /usr/local/lib/python3.7/dist-packages (from catalogue<2.1.0,>=2.0.6->spacy) (3.8.0)\n",
            "Requirement already satisfied: pyparsing!=3.0.5,>=2.0.2 in /usr/local/lib/python3.7/dist-packages (from packaging>=20.0->spacy) (3.0.9)\n",
            "Collecting smart-open<6.0.0,>=5.0.0\n",
            "  Downloading smart_open-5.2.1-py3-none-any.whl (58 kB)\n",
            "\u001b[2K     \u001b[90m━━━━━━━━━━━━━━━━━━━━━━━━━━━━━━━━━━━━━━━━\u001b[0m \u001b[32m58.6/58.6 kB\u001b[0m \u001b[31m6.8 MB/s\u001b[0m eta \u001b[36m0:00:00\u001b[0m\n",
            "\u001b[?25hRequirement already satisfied: idna<3,>=2.5 in /usr/local/lib/python3.7/dist-packages (from requests<3.0.0,>=2.13.0->spacy) (2.10)\n",
            "Requirement already satisfied: chardet<4,>=3.0.2 in /usr/local/lib/python3.7/dist-packages (from requests<3.0.0,>=2.13.0->spacy) (3.0.4)\n",
            "Requirement already satisfied: certifi>=2017.4.17 in /usr/local/lib/python3.7/dist-packages (from requests<3.0.0,>=2.13.0->spacy) (2022.5.18.1)\n",
            "Requirement already satisfied: urllib3!=1.25.0,!=1.25.1,<1.26,>=1.21.1 in /usr/local/lib/python3.7/dist-packages (from requests<3.0.0,>=2.13.0->spacy) (1.24.3)\n",
            "Requirement already satisfied: click<9.0.0,>=7.1.1 in /usr/local/lib/python3.7/dist-packages (from typer<0.5.0,>=0.3.0->spacy) (7.1.2)\n",
            "Requirement already satisfied: MarkupSafe>=0.23 in /usr/local/lib/python3.7/dist-packages (from jinja2->spacy) (2.0.1)\n",
            "Installing collected packages: typing-extensions, typer, spacy-loggers, spacy-legacy, smart-open, pydantic, langcodes, catalogue, srsly, pathy, thinc, spacy\n",
            "  Attempting uninstall: typing-extensions\n",
            "    Found existing installation: typing_extensions 4.2.0\n",
            "    Uninstalling typing_extensions-4.2.0:\n",
            "      Successfully uninstalled typing_extensions-4.2.0\n",
            "  Attempting uninstall: smart-open\n",
            "    Found existing installation: smart-open 6.0.0\n",
            "    Uninstalling smart-open-6.0.0:\n",
            "      Successfully uninstalled smart-open-6.0.0\n",
            "  Attempting uninstall: catalogue\n",
            "    Found existing installation: catalogue 1.0.0\n",
            "    Uninstalling catalogue-1.0.0:\n",
            "      Successfully uninstalled catalogue-1.0.0\n",
            "  Attempting uninstall: srsly\n",
            "    Found existing installation: srsly 1.0.5\n",
            "    Uninstalling srsly-1.0.5:\n",
            "      Successfully uninstalled srsly-1.0.5\n",
            "  Attempting uninstall: thinc\n",
            "    Found existing installation: thinc 7.4.0\n",
            "    Uninstalling thinc-7.4.0:\n",
            "      Successfully uninstalled thinc-7.4.0\n",
            "  Attempting uninstall: spacy\n",
            "    Found existing installation: spacy 2.2.4\n",
            "    Uninstalling spacy-2.2.4:\n",
            "      Successfully uninstalled spacy-2.2.4\n",
            "\u001b[31mERROR: pip's dependency resolver does not currently take into account all the packages that are installed. This behaviour is the source of the following dependency conflicts.\n",
            "tensorflow 2.8.0+zzzcolab20220506162203 requires tf-estimator-nightly==2.8.0.dev2021122109, which is not installed.\u001b[0m\u001b[31m\n",
            "\u001b[0mSuccessfully installed catalogue-2.0.7 langcodes-3.3.0 pathy-0.6.1 pydantic-1.8.2 smart-open-5.2.1 spacy-3.3.0 spacy-legacy-3.0.9 spacy-loggers-1.0.2 srsly-2.4.3 thinc-8.0.16 typer-0.4.1 typing-extensions-3.10.0.2\n",
            "\u001b[33mWARNING: Running pip as the 'root' user can result in broken permissions and conflicting behaviour with the system package manager. It is recommended to use a virtual environment instead: https://pip.pypa.io/warnings/venv\u001b[0m\u001b[33m\n",
            "\u001b[0mLooking in indexes: https://pypi.org/simple, https://us-python.pkg.dev/colab-wheels/public/simple/\n",
            "Collecting pl-core-news-sm==3.3.0\n",
            "  Downloading https://github.com/explosion/spacy-models/releases/download/pl_core_news_sm-3.3.0/pl_core_news_sm-3.3.0-py3-none-any.whl (20.1 MB)\n",
            "\u001b[2K     \u001b[90m━━━━━━━━━━━━━━━━━━━━━━━━━━━━━━━━━━━━━━━━\u001b[0m \u001b[32m20.1/20.1 MB\u001b[0m \u001b[31m35.1 MB/s\u001b[0m eta \u001b[36m0:00:00\u001b[0m\n",
            "\u001b[?25hRequirement already satisfied: spacy<3.4.0,>=3.3.0.dev0 in /usr/local/lib/python3.7/dist-packages (from pl-core-news-sm==3.3.0) (3.3.0)\n",
            "Requirement already satisfied: numpy>=1.15.0 in /usr/local/lib/python3.7/dist-packages (from spacy<3.4.0,>=3.3.0.dev0->pl-core-news-sm==3.3.0) (1.21.6)\n",
            "Requirement already satisfied: typing-extensions<4.0.0.0,>=3.7.4 in /usr/local/lib/python3.7/dist-packages (from spacy<3.4.0,>=3.3.0.dev0->pl-core-news-sm==3.3.0) (3.10.0.2)\n",
            "Requirement already satisfied: spacy-legacy<3.1.0,>=3.0.9 in /usr/local/lib/python3.7/dist-packages (from spacy<3.4.0,>=3.3.0.dev0->pl-core-news-sm==3.3.0) (3.0.9)\n",
            "Requirement already satisfied: preshed<3.1.0,>=3.0.2 in /usr/local/lib/python3.7/dist-packages (from spacy<3.4.0,>=3.3.0.dev0->pl-core-news-sm==3.3.0) (3.0.6)\n",
            "Requirement already satisfied: catalogue<2.1.0,>=2.0.6 in /usr/local/lib/python3.7/dist-packages (from spacy<3.4.0,>=3.3.0.dev0->pl-core-news-sm==3.3.0) (2.0.7)\n",
            "Requirement already satisfied: spacy-loggers<2.0.0,>=1.0.0 in /usr/local/lib/python3.7/dist-packages (from spacy<3.4.0,>=3.3.0.dev0->pl-core-news-sm==3.3.0) (1.0.2)\n",
            "Requirement already satisfied: murmurhash<1.1.0,>=0.28.0 in /usr/local/lib/python3.7/dist-packages (from spacy<3.4.0,>=3.3.0.dev0->pl-core-news-sm==3.3.0) (1.0.7)\n",
            "Requirement already satisfied: cymem<2.1.0,>=2.0.2 in /usr/local/lib/python3.7/dist-packages (from spacy<3.4.0,>=3.3.0.dev0->pl-core-news-sm==3.3.0) (2.0.6)\n",
            "Requirement already satisfied: setuptools in /usr/local/lib/python3.7/dist-packages (from spacy<3.4.0,>=3.3.0.dev0->pl-core-news-sm==3.3.0) (62.3.2)\n",
            "Requirement already satisfied: wasabi<1.1.0,>=0.9.1 in /usr/local/lib/python3.7/dist-packages (from spacy<3.4.0,>=3.3.0.dev0->pl-core-news-sm==3.3.0) (0.9.1)\n",
            "Requirement already satisfied: pathy>=0.3.5 in /usr/local/lib/python3.7/dist-packages (from spacy<3.4.0,>=3.3.0.dev0->pl-core-news-sm==3.3.0) (0.6.1)\n",
            "Requirement already satisfied: typer<0.5.0,>=0.3.0 in /usr/local/lib/python3.7/dist-packages (from spacy<3.4.0,>=3.3.0.dev0->pl-core-news-sm==3.3.0) (0.4.1)\n",
            "Requirement already satisfied: srsly<3.0.0,>=2.4.3 in /usr/local/lib/python3.7/dist-packages (from spacy<3.4.0,>=3.3.0.dev0->pl-core-news-sm==3.3.0) (2.4.3)\n",
            "Requirement already satisfied: blis<0.8.0,>=0.4.0 in /usr/local/lib/python3.7/dist-packages (from spacy<3.4.0,>=3.3.0.dev0->pl-core-news-sm==3.3.0) (0.4.1)\n",
            "Requirement already satisfied: packaging>=20.0 in /usr/local/lib/python3.7/dist-packages (from spacy<3.4.0,>=3.3.0.dev0->pl-core-news-sm==3.3.0) (21.3)\n",
            "Requirement already satisfied: jinja2 in /usr/local/lib/python3.7/dist-packages (from spacy<3.4.0,>=3.3.0.dev0->pl-core-news-sm==3.3.0) (2.11.3)\n",
            "Requirement already satisfied: langcodes<4.0.0,>=3.2.0 in /usr/local/lib/python3.7/dist-packages (from spacy<3.4.0,>=3.3.0.dev0->pl-core-news-sm==3.3.0) (3.3.0)\n",
            "Requirement already satisfied: requests<3.0.0,>=2.13.0 in /usr/local/lib/python3.7/dist-packages (from spacy<3.4.0,>=3.3.0.dev0->pl-core-news-sm==3.3.0) (2.23.0)\n",
            "Requirement already satisfied: thinc<8.1.0,>=8.0.14 in /usr/local/lib/python3.7/dist-packages (from spacy<3.4.0,>=3.3.0.dev0->pl-core-news-sm==3.3.0) (8.0.16)\n",
            "Requirement already satisfied: pydantic!=1.8,!=1.8.1,<1.9.0,>=1.7.4 in /usr/local/lib/python3.7/dist-packages (from spacy<3.4.0,>=3.3.0.dev0->pl-core-news-sm==3.3.0) (1.8.2)\n",
            "Requirement already satisfied: tqdm<5.0.0,>=4.38.0 in /usr/local/lib/python3.7/dist-packages (from spacy<3.4.0,>=3.3.0.dev0->pl-core-news-sm==3.3.0) (4.64.0)\n",
            "Requirement already satisfied: zipp>=0.5 in /usr/local/lib/python3.7/dist-packages (from catalogue<2.1.0,>=2.0.6->spacy<3.4.0,>=3.3.0.dev0->pl-core-news-sm==3.3.0) (3.8.0)\n",
            "Requirement already satisfied: pyparsing!=3.0.5,>=2.0.2 in /usr/local/lib/python3.7/dist-packages (from packaging>=20.0->spacy<3.4.0,>=3.3.0.dev0->pl-core-news-sm==3.3.0) (3.0.9)\n",
            "Requirement already satisfied: smart-open<6.0.0,>=5.0.0 in /usr/local/lib/python3.7/dist-packages (from pathy>=0.3.5->spacy<3.4.0,>=3.3.0.dev0->pl-core-news-sm==3.3.0) (5.2.1)\n",
            "Requirement already satisfied: certifi>=2017.4.17 in /usr/local/lib/python3.7/dist-packages (from requests<3.0.0,>=2.13.0->spacy<3.4.0,>=3.3.0.dev0->pl-core-news-sm==3.3.0) (2022.5.18.1)\n",
            "Requirement already satisfied: urllib3!=1.25.0,!=1.25.1,<1.26,>=1.21.1 in /usr/local/lib/python3.7/dist-packages (from requests<3.0.0,>=2.13.0->spacy<3.4.0,>=3.3.0.dev0->pl-core-news-sm==3.3.0) (1.24.3)\n",
            "Requirement already satisfied: chardet<4,>=3.0.2 in /usr/local/lib/python3.7/dist-packages (from requests<3.0.0,>=2.13.0->spacy<3.4.0,>=3.3.0.dev0->pl-core-news-sm==3.3.0) (3.0.4)\n",
            "Requirement already satisfied: idna<3,>=2.5 in /usr/local/lib/python3.7/dist-packages (from requests<3.0.0,>=2.13.0->spacy<3.4.0,>=3.3.0.dev0->pl-core-news-sm==3.3.0) (2.10)\n",
            "Requirement already satisfied: click<9.0.0,>=7.1.1 in /usr/local/lib/python3.7/dist-packages (from typer<0.5.0,>=0.3.0->spacy<3.4.0,>=3.3.0.dev0->pl-core-news-sm==3.3.0) (7.1.2)\n",
            "Requirement already satisfied: MarkupSafe>=0.23 in /usr/local/lib/python3.7/dist-packages (from jinja2->spacy<3.4.0,>=3.3.0.dev0->pl-core-news-sm==3.3.0) (2.0.1)\n",
            "Installing collected packages: pl-core-news-sm\n",
            "Successfully installed pl-core-news-sm-3.3.0\n",
            "\u001b[33mWARNING: Running pip as the 'root' user can result in broken permissions and conflicting behaviour with the system package manager. It is recommended to use a virtual environment instead: https://pip.pypa.io/warnings/venv\u001b[0m\u001b[33m\n",
            "\u001b[0m\u001b[38;5;2m✔ Download and installation successful\u001b[0m\n",
            "You can now load the package via spacy.load('pl_core_news_sm')\n"
          ]
        }
      ],
      "source": [
        "!python3 -m venv tutorial-env\n",
        "!source tutorial-env/bin/activate\n",
        "!pip install -U pip setuptools wheel\n",
        "!pip install -U spacy\n",
        "!python -m spacy download pl_core_news_sm"
      ]
    },
    {
      "cell_type": "code",
      "execution_count": null,
      "metadata": {
        "id": "q8tWWSp9LxNw"
      },
      "outputs": [],
      "source": [
        "import spacy\n",
        "nlp = spacy.load(\"pl_core_news_sm\")"
      ]
    },
    {
      "cell_type": "code",
      "execution_count": null,
      "metadata": {
        "id": "R3b3YvSNkG08"
      },
      "outputs": [],
      "source": [
        "#from google.colab import drive\n",
        "#drive.mount('/content/drive')"
      ]
    },
    {
      "cell_type": "code",
      "execution_count": null,
      "metadata": {
        "id": "C9PZqzcxL6xe"
      },
      "outputs": [],
      "source": [
        "def spacy_tokeniser(sentence):\n",
        "  return [token.text for token in nlp.tokenizer(sentence)]"
      ]
    },
    {
      "cell_type": "code",
      "execution_count": null,
      "metadata": {
        "colab": {
          "base_uri": "https://localhost:8080/"
        },
        "id": "srwVlhvJOW_X",
        "outputId": "1edce99a-ff0b-4946-ea08-a6fbc0164a57"
      },
      "outputs": [
        {
          "output_type": "stream",
          "name": "stdout",
          "text": [
            "--2022-05-28 22:42:26--  https://klejbenchmark.com/static/data/klej_cbd.zip\n",
            "Resolving klejbenchmark.com (klejbenchmark.com)... 35.234.99.58\n",
            "Connecting to klejbenchmark.com (klejbenchmark.com)|35.234.99.58|:443... connected.\n",
            "HTTP request sent, awaiting response... 200 OK\n",
            "Length: 375476 (367K) [application/zip]\n",
            "Saving to: ‘klej_cbd.zip’\n",
            "\n",
            "klej_cbd.zip        100%[===================>] 366.68K  1.02MB/s    in 0.4s    \n",
            "\n",
            "2022-05-28 22:42:26 (1.02 MB/s) - ‘klej_cbd.zip’ saved [375476/375476]\n",
            "\n",
            "Archive:  klej_cbd.zip\n",
            "  inflating: test_features.tsv       \n",
            "  inflating: train.tsv               \n",
            "/bin/bash: -c: line 0: syntax error near unexpected token `'klej_cbd.zip','\n",
            "/bin/bash: -c: line 0: `gzip.open('klej_cbd.zip', mode='rb', compresslevel=9, encoding=None, errors=None, newline=None)¶'\n"
          ]
        }
      ],
      "source": [
        "!wget https://klejbenchmark.com/static/data/klej_cbd.zip\n",
        "!unzip klej_cbd.zip\n",
        "\n",
        "\n",
        "!gzip.open('klej_cbd.zip', mode='rb', compresslevel=9, encoding=None, errors=None, newline=None)¶"
      ]
    },
    {
      "cell_type": "code",
      "execution_count": null,
      "metadata": {
        "colab": {
          "base_uri": "https://localhost:8080/"
        },
        "id": "ojVs3N0iOcNw",
        "outputId": "7dda96da-f9a7-4881-e235-06ae677f4c71"
      },
      "outputs": [
        {
          "output_type": "stream",
          "name": "stdout",
          "text": [
            "klej_cbd.zip\n"
          ]
        }
      ],
      "source": [
        "!ls klej_cbd.zip"
      ]
    },
    {
      "cell_type": "code",
      "execution_count": null,
      "metadata": {
        "colab": {
          "base_uri": "https://localhost:8080/"
        },
        "id": "P6Gi-N1mC8ux",
        "outputId": "0a1fef78-745a-47c5-8dff-6018e6626624"
      },
      "outputs": [
        {
          "output_type": "stream",
          "name": "stdout",
          "text": [
            "klej_cbd.zip  \u001b[0m\u001b[01;34msample_data\u001b[0m/  test_features.tsv  train.tsv  \u001b[01;34mtutorial-env\u001b[0m/\n"
          ]
        }
      ],
      "source": [
        "ls"
      ]
    },
    {
      "cell_type": "code",
      "execution_count": null,
      "metadata": {
        "colab": {
          "base_uri": "https://localhost:8080/",
          "height": 424
        },
        "id": "MruSpMWQOhYq",
        "outputId": "638d05ee-0073-4da4-f4da-a4a0b030afe9"
      },
      "outputs": [
        {
          "output_type": "execute_result",
          "data": {
            "text/plain": [
              "                                              sentence\n",
              "0    @anonymized_account Spoko, jak im Duda z Moraw...\n",
              "1    @anonymized_account @anonymized_account Ale on...\n",
              "2    @anonymized_account No czy Prezes nie miał rac...\n",
              "3    @anonymized_account @anonymized_account Przeci...\n",
              "4    @anonymized_account @anonymized_account Owszem...\n",
              "..                                                 ...\n",
              "995  @anonymized_account Olej jak kto sie ubiera, p...\n",
              "996  @anonymized_account to oczywiste byłyście dziś...\n",
              "997  @anonymized_account Duda może się przyjąć w bi...\n",
              "998  @anonymized_account Ty jesteś jebnięty, tła ta...\n",
              "999  @anonymized_account @anonymized_account Ale to...\n",
              "\n",
              "[1000 rows x 1 columns]"
            ],
            "text/html": [
              "\n",
              "  <div id=\"df-d89cdd22-9778-4f29-ba44-ea9637413285\">\n",
              "    <div class=\"colab-df-container\">\n",
              "      <div>\n",
              "<style scoped>\n",
              "    .dataframe tbody tr th:only-of-type {\n",
              "        vertical-align: middle;\n",
              "    }\n",
              "\n",
              "    .dataframe tbody tr th {\n",
              "        vertical-align: top;\n",
              "    }\n",
              "\n",
              "    .dataframe thead th {\n",
              "        text-align: right;\n",
              "    }\n",
              "</style>\n",
              "<table border=\"1\" class=\"dataframe\">\n",
              "  <thead>\n",
              "    <tr style=\"text-align: right;\">\n",
              "      <th></th>\n",
              "      <th>sentence</th>\n",
              "    </tr>\n",
              "  </thead>\n",
              "  <tbody>\n",
              "    <tr>\n",
              "      <th>0</th>\n",
              "      <td>@anonymized_account Spoko, jak im Duda z Moraw...</td>\n",
              "    </tr>\n",
              "    <tr>\n",
              "      <th>1</th>\n",
              "      <td>@anonymized_account @anonymized_account Ale on...</td>\n",
              "    </tr>\n",
              "    <tr>\n",
              "      <th>2</th>\n",
              "      <td>@anonymized_account No czy Prezes nie miał rac...</td>\n",
              "    </tr>\n",
              "    <tr>\n",
              "      <th>3</th>\n",
              "      <td>@anonymized_account @anonymized_account Przeci...</td>\n",
              "    </tr>\n",
              "    <tr>\n",
              "      <th>4</th>\n",
              "      <td>@anonymized_account @anonymized_account Owszem...</td>\n",
              "    </tr>\n",
              "    <tr>\n",
              "      <th>...</th>\n",
              "      <td>...</td>\n",
              "    </tr>\n",
              "    <tr>\n",
              "      <th>995</th>\n",
              "      <td>@anonymized_account Olej jak kto sie ubiera, p...</td>\n",
              "    </tr>\n",
              "    <tr>\n",
              "      <th>996</th>\n",
              "      <td>@anonymized_account to oczywiste byłyście dziś...</td>\n",
              "    </tr>\n",
              "    <tr>\n",
              "      <th>997</th>\n",
              "      <td>@anonymized_account Duda może się przyjąć w bi...</td>\n",
              "    </tr>\n",
              "    <tr>\n",
              "      <th>998</th>\n",
              "      <td>@anonymized_account Ty jesteś jebnięty, tła ta...</td>\n",
              "    </tr>\n",
              "    <tr>\n",
              "      <th>999</th>\n",
              "      <td>@anonymized_account @anonymized_account Ale to...</td>\n",
              "    </tr>\n",
              "  </tbody>\n",
              "</table>\n",
              "<p>1000 rows × 1 columns</p>\n",
              "</div>\n",
              "      <button class=\"colab-df-convert\" onclick=\"convertToInteractive('df-d89cdd22-9778-4f29-ba44-ea9637413285')\"\n",
              "              title=\"Convert this dataframe to an interactive table.\"\n",
              "              style=\"display:none;\">\n",
              "        \n",
              "  <svg xmlns=\"http://www.w3.org/2000/svg\" height=\"24px\"viewBox=\"0 0 24 24\"\n",
              "       width=\"24px\">\n",
              "    <path d=\"M0 0h24v24H0V0z\" fill=\"none\"/>\n",
              "    <path d=\"M18.56 5.44l.94 2.06.94-2.06 2.06-.94-2.06-.94-.94-2.06-.94 2.06-2.06.94zm-11 1L8.5 8.5l.94-2.06 2.06-.94-2.06-.94L8.5 2.5l-.94 2.06-2.06.94zm10 10l.94 2.06.94-2.06 2.06-.94-2.06-.94-.94-2.06-.94 2.06-2.06.94z\"/><path d=\"M17.41 7.96l-1.37-1.37c-.4-.4-.92-.59-1.43-.59-.52 0-1.04.2-1.43.59L10.3 9.45l-7.72 7.72c-.78.78-.78 2.05 0 2.83L4 21.41c.39.39.9.59 1.41.59.51 0 1.02-.2 1.41-.59l7.78-7.78 2.81-2.81c.8-.78.8-2.07 0-2.86zM5.41 20L4 18.59l7.72-7.72 1.47 1.35L5.41 20z\"/>\n",
              "  </svg>\n",
              "      </button>\n",
              "      \n",
              "  <style>\n",
              "    .colab-df-container {\n",
              "      display:flex;\n",
              "      flex-wrap:wrap;\n",
              "      gap: 12px;\n",
              "    }\n",
              "\n",
              "    .colab-df-convert {\n",
              "      background-color: #E8F0FE;\n",
              "      border: none;\n",
              "      border-radius: 50%;\n",
              "      cursor: pointer;\n",
              "      display: none;\n",
              "      fill: #1967D2;\n",
              "      height: 32px;\n",
              "      padding: 0 0 0 0;\n",
              "      width: 32px;\n",
              "    }\n",
              "\n",
              "    .colab-df-convert:hover {\n",
              "      background-color: #E2EBFA;\n",
              "      box-shadow: 0px 1px 2px rgba(60, 64, 67, 0.3), 0px 1px 3px 1px rgba(60, 64, 67, 0.15);\n",
              "      fill: #174EA6;\n",
              "    }\n",
              "\n",
              "    [theme=dark] .colab-df-convert {\n",
              "      background-color: #3B4455;\n",
              "      fill: #D2E3FC;\n",
              "    }\n",
              "\n",
              "    [theme=dark] .colab-df-convert:hover {\n",
              "      background-color: #434B5C;\n",
              "      box-shadow: 0px 1px 3px 1px rgba(0, 0, 0, 0.15);\n",
              "      filter: drop-shadow(0px 1px 2px rgba(0, 0, 0, 0.3));\n",
              "      fill: #FFFFFF;\n",
              "    }\n",
              "  </style>\n",
              "\n",
              "      <script>\n",
              "        const buttonEl =\n",
              "          document.querySelector('#df-d89cdd22-9778-4f29-ba44-ea9637413285 button.colab-df-convert');\n",
              "        buttonEl.style.display =\n",
              "          google.colab.kernel.accessAllowed ? 'block' : 'none';\n",
              "\n",
              "        async function convertToInteractive(key) {\n",
              "          const element = document.querySelector('#df-d89cdd22-9778-4f29-ba44-ea9637413285');\n",
              "          const dataTable =\n",
              "            await google.colab.kernel.invokeFunction('convertToInteractive',\n",
              "                                                     [key], {});\n",
              "          if (!dataTable) return;\n",
              "\n",
              "          const docLinkHtml = 'Like what you see? Visit the ' +\n",
              "            '<a target=\"_blank\" href=https://colab.research.google.com/notebooks/data_table.ipynb>data table notebook</a>'\n",
              "            + ' to learn more about interactive tables.';\n",
              "          element.innerHTML = '';\n",
              "          dataTable['output_type'] = 'display_data';\n",
              "          await google.colab.output.renderOutput(dataTable, element);\n",
              "          const docLink = document.createElement('div');\n",
              "          docLink.innerHTML = docLinkHtml;\n",
              "          element.appendChild(docLink);\n",
              "        }\n",
              "      </script>\n",
              "    </div>\n",
              "  </div>\n",
              "  "
            ]
          },
          "metadata": {},
          "execution_count": 6
        }
      ],
      "source": [
        "import pandas as pd\n",
        "import random\n",
        "import numpy as np\n",
        "\n",
        "\n",
        "\n",
        "\n",
        "df_train = pd.read_csv(\"train.tsv\", sep='\\t')\n",
        "df_test = pd.read_csv(\"test_features.tsv\", sep='\\t')\n",
        "\n",
        "\n",
        "df_test"
      ]
    },
    {
      "cell_type": "markdown",
      "metadata": {
        "id": "bZ6pXHzZXGiU"
      },
      "source": [
        "# PODZIAŁ NA ZBIÓR TESTOWY ORAZ TRENINGOWY"
      ]
    },
    {
      "cell_type": "code",
      "execution_count": null,
      "metadata": {
        "colab": {
          "base_uri": "https://localhost:8080/",
          "height": 35
        },
        "id": "OE89oz9rW-VV",
        "outputId": "efcb18e9-ac86-41db-d166-4c5ebd6760bf"
      },
      "outputs": [
        {
          "output_type": "execute_result",
          "data": {
            "text/plain": [
              "'\\nprint(df_train_new)\\nprint(df_test_new)\\n'"
            ],
            "application/vnd.google.colaboratory.intrinsic+json": {
              "type": "string"
            }
          },
          "metadata": {},
          "execution_count": 7
        }
      ],
      "source": [
        "\n",
        "\n",
        "\n",
        "\n",
        "\n",
        "\n",
        "len_of_target_1 = 0.2 * len(df_train[df_train['target'] == 1])\n",
        "\n",
        "\n",
        "df_hate = df_train[df_train['target'] == 1]\n",
        "remove_n = int(len_of_target_1)\n",
        "drop_indices = np.random.choice(df_hate.index, remove_n, replace=False)\n",
        "df_train_hate = df_hate.drop(drop_indices)\n",
        "\n",
        "\n",
        "\n",
        "df_test_hate = df_train.filter(items = drop_indices, axis=0)\n",
        "\n",
        "\n",
        "\n",
        "len_of_target_0 = 0.2 * len(df_train[df_train['target'] ==0])\n",
        "\n",
        "df_neutral = df_train[df_train['target'] == 0]\n",
        "remove_n = int(len_of_target_0)\n",
        "drop_indices = np.random.choice(df_neutral.index, remove_n, replace = False)\n",
        "df_train_neutral = df_neutral.drop(drop_indices)\n",
        "\n",
        "df_test_neutral = df_train.filter(items = drop_indices, axis = 0)\n",
        "\n",
        "df_train_new = pd.concat([df_train_neutral, df_train_hate], axis=0)\n",
        "\n",
        "df_test_new = pd.concat([df_test_neutral, df_test_hate], axis = 0)\n",
        "\n",
        "df_train_new = df_train_new.sample(frac = 1).reset_index(drop = True)\n",
        "df_test_new = df_test_new.sample(frac = 1).reset_index(drop = True)\n",
        "\n",
        "\n",
        "'''\n",
        "print(df_train_new)\n",
        "print(df_test_new)\n",
        "'''                       \n"
      ]
    },
    {
      "cell_type": "code",
      "execution_count": null,
      "metadata": {
        "colab": {
          "base_uri": "https://localhost:8080/",
          "height": 424
        },
        "id": "LzybbYO1Oozp",
        "outputId": "2205f5c7-d390-4402-f6a1-24375a2bffed"
      },
      "outputs": [
        {
          "output_type": "execute_result",
          "data": {
            "text/plain": [
              "                                               sentence  target\n",
              "0     RT @anonymized_account @anonymized_account No ...       0\n",
              "1     Chciałabym się spotkać i porozmawiać z K ale m...       0\n",
              "2     @anonymized_account To nie matematyczne wylicz...       0\n",
              "3     @anonymized_account @anonymized_account @anony...       0\n",
              "4     @anonymized_account @anonymized_account @anony...       0\n",
              "...                                                 ...     ...\n",
              "2003  @anonymized_account @anonymized_account @anony...       0\n",
              "2004  @anonymized_account A to ja przepraszam, nie m...       0\n",
              "2005  Panie i panowie, totalna porażka @anonymized_a...       0\n",
              "2006  @anonymized_account @anonymized_account Gdyby ...       0\n",
              "2007  @anonymized_account @anonymized_account @anony...       0\n",
              "\n",
              "[2008 rows x 2 columns]"
            ],
            "text/html": [
              "\n",
              "  <div id=\"df-e4c9a0f9-8b8c-46bd-b5bb-ffbd2e8b3859\">\n",
              "    <div class=\"colab-df-container\">\n",
              "      <div>\n",
              "<style scoped>\n",
              "    .dataframe tbody tr th:only-of-type {\n",
              "        vertical-align: middle;\n",
              "    }\n",
              "\n",
              "    .dataframe tbody tr th {\n",
              "        vertical-align: top;\n",
              "    }\n",
              "\n",
              "    .dataframe thead th {\n",
              "        text-align: right;\n",
              "    }\n",
              "</style>\n",
              "<table border=\"1\" class=\"dataframe\">\n",
              "  <thead>\n",
              "    <tr style=\"text-align: right;\">\n",
              "      <th></th>\n",
              "      <th>sentence</th>\n",
              "      <th>target</th>\n",
              "    </tr>\n",
              "  </thead>\n",
              "  <tbody>\n",
              "    <tr>\n",
              "      <th>0</th>\n",
              "      <td>RT @anonymized_account @anonymized_account No ...</td>\n",
              "      <td>0</td>\n",
              "    </tr>\n",
              "    <tr>\n",
              "      <th>1</th>\n",
              "      <td>Chciałabym się spotkać i porozmawiać z K ale m...</td>\n",
              "      <td>0</td>\n",
              "    </tr>\n",
              "    <tr>\n",
              "      <th>2</th>\n",
              "      <td>@anonymized_account To nie matematyczne wylicz...</td>\n",
              "      <td>0</td>\n",
              "    </tr>\n",
              "    <tr>\n",
              "      <th>3</th>\n",
              "      <td>@anonymized_account @anonymized_account @anony...</td>\n",
              "      <td>0</td>\n",
              "    </tr>\n",
              "    <tr>\n",
              "      <th>4</th>\n",
              "      <td>@anonymized_account @anonymized_account @anony...</td>\n",
              "      <td>0</td>\n",
              "    </tr>\n",
              "    <tr>\n",
              "      <th>...</th>\n",
              "      <td>...</td>\n",
              "      <td>...</td>\n",
              "    </tr>\n",
              "    <tr>\n",
              "      <th>2003</th>\n",
              "      <td>@anonymized_account @anonymized_account @anony...</td>\n",
              "      <td>0</td>\n",
              "    </tr>\n",
              "    <tr>\n",
              "      <th>2004</th>\n",
              "      <td>@anonymized_account A to ja przepraszam, nie m...</td>\n",
              "      <td>0</td>\n",
              "    </tr>\n",
              "    <tr>\n",
              "      <th>2005</th>\n",
              "      <td>Panie i panowie, totalna porażka @anonymized_a...</td>\n",
              "      <td>0</td>\n",
              "    </tr>\n",
              "    <tr>\n",
              "      <th>2006</th>\n",
              "      <td>@anonymized_account @anonymized_account Gdyby ...</td>\n",
              "      <td>0</td>\n",
              "    </tr>\n",
              "    <tr>\n",
              "      <th>2007</th>\n",
              "      <td>@anonymized_account @anonymized_account @anony...</td>\n",
              "      <td>0</td>\n",
              "    </tr>\n",
              "  </tbody>\n",
              "</table>\n",
              "<p>2008 rows × 2 columns</p>\n",
              "</div>\n",
              "      <button class=\"colab-df-convert\" onclick=\"convertToInteractive('df-e4c9a0f9-8b8c-46bd-b5bb-ffbd2e8b3859')\"\n",
              "              title=\"Convert this dataframe to an interactive table.\"\n",
              "              style=\"display:none;\">\n",
              "        \n",
              "  <svg xmlns=\"http://www.w3.org/2000/svg\" height=\"24px\"viewBox=\"0 0 24 24\"\n",
              "       width=\"24px\">\n",
              "    <path d=\"M0 0h24v24H0V0z\" fill=\"none\"/>\n",
              "    <path d=\"M18.56 5.44l.94 2.06.94-2.06 2.06-.94-2.06-.94-.94-2.06-.94 2.06-2.06.94zm-11 1L8.5 8.5l.94-2.06 2.06-.94-2.06-.94L8.5 2.5l-.94 2.06-2.06.94zm10 10l.94 2.06.94-2.06 2.06-.94-2.06-.94-.94-2.06-.94 2.06-2.06.94z\"/><path d=\"M17.41 7.96l-1.37-1.37c-.4-.4-.92-.59-1.43-.59-.52 0-1.04.2-1.43.59L10.3 9.45l-7.72 7.72c-.78.78-.78 2.05 0 2.83L4 21.41c.39.39.9.59 1.41.59.51 0 1.02-.2 1.41-.59l7.78-7.78 2.81-2.81c.8-.78.8-2.07 0-2.86zM5.41 20L4 18.59l7.72-7.72 1.47 1.35L5.41 20z\"/>\n",
              "  </svg>\n",
              "      </button>\n",
              "      \n",
              "  <style>\n",
              "    .colab-df-container {\n",
              "      display:flex;\n",
              "      flex-wrap:wrap;\n",
              "      gap: 12px;\n",
              "    }\n",
              "\n",
              "    .colab-df-convert {\n",
              "      background-color: #E8F0FE;\n",
              "      border: none;\n",
              "      border-radius: 50%;\n",
              "      cursor: pointer;\n",
              "      display: none;\n",
              "      fill: #1967D2;\n",
              "      height: 32px;\n",
              "      padding: 0 0 0 0;\n",
              "      width: 32px;\n",
              "    }\n",
              "\n",
              "    .colab-df-convert:hover {\n",
              "      background-color: #E2EBFA;\n",
              "      box-shadow: 0px 1px 2px rgba(60, 64, 67, 0.3), 0px 1px 3px 1px rgba(60, 64, 67, 0.15);\n",
              "      fill: #174EA6;\n",
              "    }\n",
              "\n",
              "    [theme=dark] .colab-df-convert {\n",
              "      background-color: #3B4455;\n",
              "      fill: #D2E3FC;\n",
              "    }\n",
              "\n",
              "    [theme=dark] .colab-df-convert:hover {\n",
              "      background-color: #434B5C;\n",
              "      box-shadow: 0px 1px 3px 1px rgba(0, 0, 0, 0.15);\n",
              "      filter: drop-shadow(0px 1px 2px rgba(0, 0, 0, 0.3));\n",
              "      fill: #FFFFFF;\n",
              "    }\n",
              "  </style>\n",
              "\n",
              "      <script>\n",
              "        const buttonEl =\n",
              "          document.querySelector('#df-e4c9a0f9-8b8c-46bd-b5bb-ffbd2e8b3859 button.colab-df-convert');\n",
              "        buttonEl.style.display =\n",
              "          google.colab.kernel.accessAllowed ? 'block' : 'none';\n",
              "\n",
              "        async function convertToInteractive(key) {\n",
              "          const element = document.querySelector('#df-e4c9a0f9-8b8c-46bd-b5bb-ffbd2e8b3859');\n",
              "          const dataTable =\n",
              "            await google.colab.kernel.invokeFunction('convertToInteractive',\n",
              "                                                     [key], {});\n",
              "          if (!dataTable) return;\n",
              "\n",
              "          const docLinkHtml = 'Like what you see? Visit the ' +\n",
              "            '<a target=\"_blank\" href=https://colab.research.google.com/notebooks/data_table.ipynb>data table notebook</a>'\n",
              "            + ' to learn more about interactive tables.';\n",
              "          element.innerHTML = '';\n",
              "          dataTable['output_type'] = 'display_data';\n",
              "          await google.colab.output.renderOutput(dataTable, element);\n",
              "          const docLink = document.createElement('div');\n",
              "          docLink.innerHTML = docLinkHtml;\n",
              "          element.appendChild(docLink);\n",
              "        }\n",
              "      </script>\n",
              "    </div>\n",
              "  </div>\n",
              "  "
            ]
          },
          "metadata": {},
          "execution_count": 8
        }
      ],
      "source": [
        "df_test_new"
      ]
    },
    {
      "cell_type": "code",
      "execution_count": null,
      "metadata": {
        "colab": {
          "base_uri": "https://localhost:8080/"
        },
        "id": "Cv86OZqFOqra",
        "outputId": "7b36d57d-50f6-486d-fcbd-343cb2747236"
      },
      "outputs": [
        {
          "output_type": "stream",
          "name": "stdout",
          "text": [
            "0    7352\n",
            "1     681\n",
            "Name: target, dtype: int64\n"
          ]
        }
      ],
      "source": [
        "print(df_train_new['target'].value_counts())"
      ]
    },
    {
      "cell_type": "code",
      "execution_count": null,
      "metadata": {
        "colab": {
          "base_uri": "https://localhost:8080/"
        },
        "id": "KsSL3VyoOshM",
        "outputId": "708e6953-fce7-4c50-a061-603591a87f38"
      },
      "outputs": [
        {
          "output_type": "stream",
          "name": "stdout",
          "text": [
            "#NAME?                                                                                                                                    10\n",
            "@anonymized_account PiSkomuna - kurwa, zdzira!\\nChciwie w kieszeń Ci spozira\\nI wyciąga z niej dukaty. \\nChce tu Moskwę mieć. Na raty!     2\n",
            "@anonymized_account @anonymized_account taki macie dar przekonywania że nawet pasiaków i legionistów zdołałyście namówić ? :)              1\n",
            "@anonymized_account Z tego co wiem, większość katechetów nie ma żadnego wykształcenia poza kiepskim katechizmowym.                         1\n",
            "@anonymized_account Kolejny filar inteligencji z PiSu                                                                                      1\n",
            "                                                                                                                                          ..\n",
            "@anonymized_account Kurwa mać dalej problemy ze stroną... Żenada.                                                                          1\n",
            "@anonymized_account całkiem spora torebka słonecznika, w centrum Warszawy, kosztuje dokładnie 1zł. Słownie: 1 zł.                          1\n",
            "@anonymized_account Ty parchu, jeszcze to odszczekasz parchu                                                                               1\n",
            "@anonymized_account Senegal musiałby zdobyć komplet punktów. Nie róbmy jaj.                                                                1\n",
            "@anonymized_account Omg właśnie o nich myślałam                                                                                            1\n",
            "Name: sentence, Length: 8023, dtype: int64\n"
          ]
        }
      ],
      "source": [
        "print(df_train_new['sentence'].value_counts())"
      ]
    },
    {
      "cell_type": "code",
      "execution_count": null,
      "metadata": {
        "colab": {
          "base_uri": "https://localhost:8080/",
          "height": 284
        },
        "id": "BVYdGlxyOt_L",
        "outputId": "b66c111a-da3c-430c-ed0b-9e305e93a9ed"
      },
      "outputs": [
        {
          "output_type": "display_data",
          "data": {
            "text/plain": [
              "<Figure size 432x288 with 1 Axes>"
            ],
            "image/png": "[encoded data removed]"
          },
          "metadata": {}
        }
      ],
      "source": [
        "import matplotlib.pyplot as plt\n",
        "import seaborn as sns\n",
        "\n",
        "sns.set()\n",
        "df_train_new['target'].hist(grid=False, color='#86bf91')\n",
        "plt.title(\"Rozkład danych treningowych\")\n",
        "plt.show()"
      ]
    },
    {
      "cell_type": "code",
      "execution_count": null,
      "metadata": {
        "colab": {
          "base_uri": "https://localhost:8080/",
          "height": 284
        },
        "id": "GFSBHZmfOvXt",
        "outputId": "a491dcf0-e31a-4255-fed1-9bf93ce68802"
      },
      "outputs": [
        {
          "output_type": "display_data",
          "data": {
            "text/plain": [
              "<Figure size 432x288 with 1 Axes>"
            ],
            "image/png": "[encoded data removed]"
          },
          "metadata": {}
        }
      ],
      "source": [
        "sns.set()\n",
        "df_test_new['target'].hist(grid=False)\n",
        "plt.title(\"Rozkład danych testowych\")\n",
        "plt.show()"
      ]
    },
    {
      "cell_type": "code",
      "execution_count": null,
      "metadata": {
        "id": "oKNP_AyqOxAH"
      },
      "outputs": [],
      "source": [
        "X_train_raw = df_train_new['sentence']\n",
        "y_train_labels = df_train_new['target']\n",
        "X_test_raw = df_test_new['sentence']\n",
        "y_test_labels = df_test_new['target']"
      ]
    },
    {
      "cell_type": "markdown",
      "metadata": {
        "id": "lTg76EzPQPZi"
      },
      "source": [
        "TFIDF VECTORIZER"
      ]
    },
    {
      "cell_type": "code",
      "execution_count": null,
      "metadata": {
        "colab": {
          "base_uri": "https://localhost:8080/",
          "height": 424
        },
        "id": "kmOjI2xPOyTN",
        "outputId": "8df87770-2242-4143-c2ba-3822c8e8bb73"
      },
      "outputs": [
        {
          "output_type": "execute_result",
          "data": {
            "text/plain": [
              "                       !    \"    #    %    '   ''    (  ...    🙏    🤔    🤗  \\\n",
              "0     0.0  0.0  0.0  0.0  0.0  0.0  0.0  0.0  0.0  0.0  ...  0.0  0.0  0.0   \n",
              "1     0.0  0.0  0.0  0.0  0.0  0.0  0.0  0.0  0.0  0.0  ...  0.0  0.0  0.0   \n",
              "2     0.0  0.0  0.0  0.0  0.0  0.0  0.0  0.0  0.0  0.0  ...  0.0  0.0  0.0   \n",
              "3     0.0  0.0  0.0  0.0  0.0  0.0  0.0  0.0  0.0  0.0  ...  0.0  0.0  0.0   \n",
              "4     0.0  0.0  0.0  0.0  0.0  0.0  0.0  0.0  0.0  0.0  ...  0.0  0.0  0.0   \n",
              "...   ...  ...  ...  ...  ...  ...  ...  ...  ...  ...  ...  ...  ...  ...   \n",
              "8028  0.0  0.0  0.0  0.0  0.0  0.0  0.0  0.0  0.0  0.0  ...  0.0  0.0  0.0   \n",
              "8029  0.0  0.0  0.0  0.0  0.0  0.0  0.0  0.0  0.0  0.0  ...  0.0  0.0  0.0   \n",
              "8030  0.0  0.0  0.0  0.0  0.0  0.0  0.0  0.0  0.0  0.0  ...  0.0  0.0  0.0   \n",
              "8031  0.0  0.0  0.0  0.0  0.0  0.0  0.0  0.0  0.0  0.0  ...  0.0  0.0  0.0   \n",
              "8032  0.0  0.0  0.0  0.0  0.0  0.0  0.0  0.0  0.0  0.0  ...  0.0  0.0  0.0   \n",
              "\n",
              "        🤣    🤦    🤭    🤷    🥀    🥂  󠁧󠁢󠁥󠁮󠁧󠁿  \n",
              "0     0.0  0.0  0.0  0.0  0.0  0.0     0.0  \n",
              "1     0.0  0.0  0.0  0.0  0.0  0.0     0.0  \n",
              "2     0.0  0.0  0.0  0.0  0.0  0.0     0.0  \n",
              "3     0.0  0.0  0.0  0.0  0.0  0.0     0.0  \n",
              "4     0.0  0.0  0.0  0.0  0.0  0.0     0.0  \n",
              "...   ...  ...  ...  ...  ...  ...     ...  \n",
              "8028  0.0  0.0  0.0  0.0  0.0  0.0     0.0  \n",
              "8029  0.0  0.0  0.0  0.0  0.0  0.0     0.0  \n",
              "8030  0.0  0.0  0.0  0.0  0.0  0.0     0.0  \n",
              "8031  0.0  0.0  0.0  0.0  0.0  0.0     0.0  \n",
              "8032  0.0  0.0  0.0  0.0  0.0  0.0     0.0  \n",
              "\n",
              "[8033 rows x 7673 columns]"
            ],
            "text/html": [
              "\n",
              "  <div id=\"df-b60c3053-dea2-4ee9-8d68-7c0222cf4021\">\n",
              "    <div class=\"colab-df-container\">\n",
              "      <div>\n",
              "<style scoped>\n",
              "    .dataframe tbody tr th:only-of-type {\n",
              "        vertical-align: middle;\n",
              "    }\n",
              "\n",
              "    .dataframe tbody tr th {\n",
              "        vertical-align: top;\n",
              "    }\n",
              "\n",
              "    .dataframe thead th {\n",
              "        text-align: right;\n",
              "    }\n",
              "</style>\n",
              "<table border=\"1\" class=\"dataframe\">\n",
              "  <thead>\n",
              "    <tr style=\"text-align: right;\">\n",
              "      <th></th>\n",
              "      <th></th>\n",
              "      <th></th>\n",
              "      <th></th>\n",
              "      <th>!</th>\n",
              "      <th>\"</th>\n",
              "      <th>#</th>\n",
              "      <th>%</th>\n",
              "      <th>'</th>\n",
              "      <th>''</th>\n",
              "      <th>(</th>\n",
              "      <th>...</th>\n",
              "      <th>🙏</th>\n",
              "      <th>🤔</th>\n",
              "      <th>🤗</th>\n",
              "      <th>🤣</th>\n",
              "      <th>🤦</th>\n",
              "      <th>🤭</th>\n",
              "      <th>🤷</th>\n",
              "      <th>🥀</th>\n",
              "      <th>🥂</th>\n",
              "      <th>󠁧󠁢󠁥󠁮󠁧󠁿</th>\n",
              "    </tr>\n",
              "  </thead>\n",
              "  <tbody>\n",
              "    <tr>\n",
              "      <th>0</th>\n",
              "      <td>0.0</td>\n",
              "      <td>0.0</td>\n",
              "      <td>0.0</td>\n",
              "      <td>0.0</td>\n",
              "      <td>0.0</td>\n",
              "      <td>0.0</td>\n",
              "      <td>0.0</td>\n",
              "      <td>0.0</td>\n",
              "      <td>0.0</td>\n",
              "      <td>0.0</td>\n",
              "      <td>...</td>\n",
              "      <td>0.0</td>\n",
              "      <td>0.0</td>\n",
              "      <td>0.0</td>\n",
              "      <td>0.0</td>\n",
              "      <td>0.0</td>\n",
              "      <td>0.0</td>\n",
              "      <td>0.0</td>\n",
              "      <td>0.0</td>\n",
              "      <td>0.0</td>\n",
              "      <td>0.0</td>\n",
              "    </tr>\n",
              "    <tr>\n",
              "      <th>1</th>\n",
              "      <td>0.0</td>\n",
              "      <td>0.0</td>\n",
              "      <td>0.0</td>\n",
              "      <td>0.0</td>\n",
              "      <td>0.0</td>\n",
              "      <td>0.0</td>\n",
              "      <td>0.0</td>\n",
              "      <td>0.0</td>\n",
              "      <td>0.0</td>\n",
              "      <td>0.0</td>\n",
              "      <td>...</td>\n",
              "      <td>0.0</td>\n",
              "      <td>0.0</td>\n",
              "      <td>0.0</td>\n",
              "      <td>0.0</td>\n",
              "      <td>0.0</td>\n",
              "      <td>0.0</td>\n",
              "      <td>0.0</td>\n",
              "      <td>0.0</td>\n",
              "      <td>0.0</td>\n",
              "      <td>0.0</td>\n",
              "    </tr>\n",
              "    <tr>\n",
              "      <th>2</th>\n",
              "      <td>0.0</td>\n",
              "      <td>0.0</td>\n",
              "      <td>0.0</td>\n",
              "      <td>0.0</td>\n",
              "      <td>0.0</td>\n",
              "      <td>0.0</td>\n",
              "      <td>0.0</td>\n",
              "      <td>0.0</td>\n",
              "      <td>0.0</td>\n",
              "      <td>0.0</td>\n",
              "      <td>...</td>\n",
              "      <td>0.0</td>\n",
              "      <td>0.0</td>\n",
              "      <td>0.0</td>\n",
              "      <td>0.0</td>\n",
              "      <td>0.0</td>\n",
              "      <td>0.0</td>\n",
              "      <td>0.0</td>\n",
              "      <td>0.0</td>\n",
              "      <td>0.0</td>\n",
              "      <td>0.0</td>\n",
              "    </tr>\n",
              "    <tr>\n",
              "      <th>3</th>\n",
              "      <td>0.0</td>\n",
              "      <td>0.0</td>\n",
              "      <td>0.0</td>\n",
              "      <td>0.0</td>\n",
              "      <td>0.0</td>\n",
              "      <td>0.0</td>\n",
              "      <td>0.0</td>\n",
              "      <td>0.0</td>\n",
              "      <td>0.0</td>\n",
              "      <td>0.0</td>\n",
              "      <td>...</td>\n",
              "      <td>0.0</td>\n",
              "      <td>0.0</td>\n",
              "      <td>0.0</td>\n",
              "      <td>0.0</td>\n",
              "      <td>0.0</td>\n",
              "      <td>0.0</td>\n",
              "      <td>0.0</td>\n",
              "      <td>0.0</td>\n",
              "      <td>0.0</td>\n",
              "      <td>0.0</td>\n",
              "    </tr>\n",
              "    <tr>\n",
              "      <th>4</th>\n",
              "      <td>0.0</td>\n",
              "      <td>0.0</td>\n",
              "      <td>0.0</td>\n",
              "      <td>0.0</td>\n",
              "      <td>0.0</td>\n",
              "      <td>0.0</td>\n",
              "      <td>0.0</td>\n",
              "      <td>0.0</td>\n",
              "      <td>0.0</td>\n",
              "      <td>0.0</td>\n",
              "      <td>...</td>\n",
              "      <td>0.0</td>\n",
              "      <td>0.0</td>\n",
              "      <td>0.0</td>\n",
              "      <td>0.0</td>\n",
              "      <td>0.0</td>\n",
              "      <td>0.0</td>\n",
              "      <td>0.0</td>\n",
              "      <td>0.0</td>\n",
              "      <td>0.0</td>\n",
              "      <td>0.0</td>\n",
              "    </tr>\n",
              "    <tr>\n",
              "      <th>...</th>\n",
              "      <td>...</td>\n",
              "      <td>...</td>\n",
              "      <td>...</td>\n",
              "      <td>...</td>\n",
              "      <td>...</td>\n",
              "      <td>...</td>\n",
              "      <td>...</td>\n",
              "      <td>...</td>\n",
              "      <td>...</td>\n",
              "      <td>...</td>\n",
              "      <td>...</td>\n",
              "      <td>...</td>\n",
              "      <td>...</td>\n",
              "      <td>...</td>\n",
              "      <td>...</td>\n",
              "      <td>...</td>\n",
              "      <td>...</td>\n",
              "      <td>...</td>\n",
              "      <td>...</td>\n",
              "      <td>...</td>\n",
              "      <td>...</td>\n",
              "    </tr>\n",
              "    <tr>\n",
              "      <th>8028</th>\n",
              "      <td>0.0</td>\n",
              "      <td>0.0</td>\n",
              "      <td>0.0</td>\n",
              "      <td>0.0</td>\n",
              "      <td>0.0</td>\n",
              "      <td>0.0</td>\n",
              "      <td>0.0</td>\n",
              "      <td>0.0</td>\n",
              "      <td>0.0</td>\n",
              "      <td>0.0</td>\n",
              "      <td>...</td>\n",
              "      <td>0.0</td>\n",
              "      <td>0.0</td>\n",
              "      <td>0.0</td>\n",
              "      <td>0.0</td>\n",
              "      <td>0.0</td>\n",
              "      <td>0.0</td>\n",
              "      <td>0.0</td>\n",
              "      <td>0.0</td>\n",
              "      <td>0.0</td>\n",
              "      <td>0.0</td>\n",
              "    </tr>\n",
              "    <tr>\n",
              "      <th>8029</th>\n",
              "      <td>0.0</td>\n",
              "      <td>0.0</td>\n",
              "      <td>0.0</td>\n",
              "      <td>0.0</td>\n",
              "      <td>0.0</td>\n",
              "      <td>0.0</td>\n",
              "      <td>0.0</td>\n",
              "      <td>0.0</td>\n",
              "      <td>0.0</td>\n",
              "      <td>0.0</td>\n",
              "      <td>...</td>\n",
              "      <td>0.0</td>\n",
              "      <td>0.0</td>\n",
              "      <td>0.0</td>\n",
              "      <td>0.0</td>\n",
              "      <td>0.0</td>\n",
              "      <td>0.0</td>\n",
              "      <td>0.0</td>\n",
              "      <td>0.0</td>\n",
              "      <td>0.0</td>\n",
              "      <td>0.0</td>\n",
              "    </tr>\n",
              "    <tr>\n",
              "      <th>8030</th>\n",
              "      <td>0.0</td>\n",
              "      <td>0.0</td>\n",
              "      <td>0.0</td>\n",
              "      <td>0.0</td>\n",
              "      <td>0.0</td>\n",
              "      <td>0.0</td>\n",
              "      <td>0.0</td>\n",
              "      <td>0.0</td>\n",
              "      <td>0.0</td>\n",
              "      <td>0.0</td>\n",
              "      <td>...</td>\n",
              "      <td>0.0</td>\n",
              "      <td>0.0</td>\n",
              "      <td>0.0</td>\n",
              "      <td>0.0</td>\n",
              "      <td>0.0</td>\n",
              "      <td>0.0</td>\n",
              "      <td>0.0</td>\n",
              "      <td>0.0</td>\n",
              "      <td>0.0</td>\n",
              "      <td>0.0</td>\n",
              "    </tr>\n",
              "    <tr>\n",
              "      <th>8031</th>\n",
              "      <td>0.0</td>\n",
              "      <td>0.0</td>\n",
              "      <td>0.0</td>\n",
              "      <td>0.0</td>\n",
              "      <td>0.0</td>\n",
              "      <td>0.0</td>\n",
              "      <td>0.0</td>\n",
              "      <td>0.0</td>\n",
              "      <td>0.0</td>\n",
              "      <td>0.0</td>\n",
              "      <td>...</td>\n",
              "      <td>0.0</td>\n",
              "      <td>0.0</td>\n",
              "      <td>0.0</td>\n",
              "      <td>0.0</td>\n",
              "      <td>0.0</td>\n",
              "      <td>0.0</td>\n",
              "      <td>0.0</td>\n",
              "      <td>0.0</td>\n",
              "      <td>0.0</td>\n",
              "      <td>0.0</td>\n",
              "    </tr>\n",
              "    <tr>\n",
              "      <th>8032</th>\n",
              "      <td>0.0</td>\n",
              "      <td>0.0</td>\n",
              "      <td>0.0</td>\n",
              "      <td>0.0</td>\n",
              "      <td>0.0</td>\n",
              "      <td>0.0</td>\n",
              "      <td>0.0</td>\n",
              "      <td>0.0</td>\n",
              "      <td>0.0</td>\n",
              "      <td>0.0</td>\n",
              "      <td>...</td>\n",
              "      <td>0.0</td>\n",
              "      <td>0.0</td>\n",
              "      <td>0.0</td>\n",
              "      <td>0.0</td>\n",
              "      <td>0.0</td>\n",
              "      <td>0.0</td>\n",
              "      <td>0.0</td>\n",
              "      <td>0.0</td>\n",
              "      <td>0.0</td>\n",
              "      <td>0.0</td>\n",
              "    </tr>\n",
              "  </tbody>\n",
              "</table>\n",
              "<p>8033 rows × 7673 columns</p>\n",
              "</div>\n",
              "      <button class=\"colab-df-convert\" onclick=\"convertToInteractive('df-b60c3053-dea2-4ee9-8d68-7c0222cf4021')\"\n",
              "              title=\"Convert this dataframe to an interactive table.\"\n",
              "              style=\"display:none;\">\n",
              "        \n",
              "  <svg xmlns=\"http://www.w3.org/2000/svg\" height=\"24px\"viewBox=\"0 0 24 24\"\n",
              "       width=\"24px\">\n",
              "    <path d=\"M0 0h24v24H0V0z\" fill=\"none\"/>\n",
              "    <path d=\"M18.56 5.44l.94 2.06.94-2.06 2.06-.94-2.06-.94-.94-2.06-.94 2.06-2.06.94zm-11 1L8.5 8.5l.94-2.06 2.06-.94-2.06-.94L8.5 2.5l-.94 2.06-2.06.94zm10 10l.94 2.06.94-2.06 2.06-.94-2.06-.94-.94-2.06-.94 2.06-2.06.94z\"/><path d=\"M17.41 7.96l-1.37-1.37c-.4-.4-.92-.59-1.43-.59-.52 0-1.04.2-1.43.59L10.3 9.45l-7.72 7.72c-.78.78-.78 2.05 0 2.83L4 21.41c.39.39.9.59 1.41.59.51 0 1.02-.2 1.41-.59l7.78-7.78 2.81-2.81c.8-.78.8-2.07 0-2.86zM5.41 20L4 18.59l7.72-7.72 1.47 1.35L5.41 20z\"/>\n",
              "  </svg>\n",
              "      </button>\n",
              "      \n",
              "  <style>\n",
              "    .colab-df-container {\n",
              "      display:flex;\n",
              "      flex-wrap:wrap;\n",
              "      gap: 12px;\n",
              "    }\n",
              "\n",
              "    .colab-df-convert {\n",
              "      background-color: #E8F0FE;\n",
              "      border: none;\n",
              "      border-radius: 50%;\n",
              "      cursor: pointer;\n",
              "      display: none;\n",
              "      fill: #1967D2;\n",
              "      height: 32px;\n",
              "      padding: 0 0 0 0;\n",
              "      width: 32px;\n",
              "    }\n",
              "\n",
              "    .colab-df-convert:hover {\n",
              "      background-color: #E2EBFA;\n",
              "      box-shadow: 0px 1px 2px rgba(60, 64, 67, 0.3), 0px 1px 3px 1px rgba(60, 64, 67, 0.15);\n",
              "      fill: #174EA6;\n",
              "    }\n",
              "\n",
              "    [theme=dark] .colab-df-convert {\n",
              "      background-color: #3B4455;\n",
              "      fill: #D2E3FC;\n",
              "    }\n",
              "\n",
              "    [theme=dark] .colab-df-convert:hover {\n",
              "      background-color: #434B5C;\n",
              "      box-shadow: 0px 1px 3px 1px rgba(0, 0, 0, 0.15);\n",
              "      filter: drop-shadow(0px 1px 2px rgba(0, 0, 0, 0.3));\n",
              "      fill: #FFFFFF;\n",
              "    }\n",
              "  </style>\n",
              "\n",
              "      <script>\n",
              "        const buttonEl =\n",
              "          document.querySelector('#df-b60c3053-dea2-4ee9-8d68-7c0222cf4021 button.colab-df-convert');\n",
              "        buttonEl.style.display =\n",
              "          google.colab.kernel.accessAllowed ? 'block' : 'none';\n",
              "\n",
              "        async function convertToInteractive(key) {\n",
              "          const element = document.querySelector('#df-b60c3053-dea2-4ee9-8d68-7c0222cf4021');\n",
              "          const dataTable =\n",
              "            await google.colab.kernel.invokeFunction('convertToInteractive',\n",
              "                                                     [key], {});\n",
              "          if (!dataTable) return;\n",
              "\n",
              "          const docLinkHtml = 'Like what you see? Visit the ' +\n",
              "            '<a target=\"_blank\" href=https://colab.research.google.com/notebooks/data_table.ipynb>data table notebook</a>'\n",
              "            + ' to learn more about interactive tables.';\n",
              "          element.innerHTML = '';\n",
              "          dataTable['output_type'] = 'display_data';\n",
              "          await google.colab.output.renderOutput(dataTable, element);\n",
              "          const docLink = document.createElement('div');\n",
              "          docLink.innerHTML = docLinkHtml;\n",
              "          element.appendChild(docLink);\n",
              "        }\n",
              "      </script>\n",
              "    </div>\n",
              "  </div>\n",
              "  "
            ]
          },
          "metadata": {},
          "execution_count": 14
        }
      ],
      "source": [
        "from sklearn.feature_extraction.text import TfidfVectorizer\n",
        "\n",
        "\n",
        "tfidf_vectorizer = TfidfVectorizer(sublinear_tf=True, max_df=0.5, min_df=2, analyzer='word', tokenizer=spacy_tokeniser, norm=None) # stworzyłem model tfidf dot tych danych\n",
        "\n",
        "X_train_tfidf = tfidf_vectorizer.fit_transform(X_train_raw) # zaimplementowalem model\n",
        "\n",
        "tfidf_matrix_array = X_train_tfidf.toarray() # do arrayu\n",
        "\n",
        "pd_tfidf_matrix = pd.DataFrame(data=tfidf_matrix_array, columns=tfidf_vectorizer.get_feature_names_out()) # dataframe gdzie kolumny to cechy a wiersze reprezentuja dane dokumenty w modelu tfidf\n",
        "pd_tfidf_matrix\n",
        "\n"
      ]
    },
    {
      "cell_type": "code",
      "execution_count": null,
      "metadata": {
        "colab": {
          "base_uri": "https://localhost:8080/"
        },
        "id": "hBf7iv4yOz7u",
        "outputId": "44ecf697-76a3-455d-a09b-22dec24ccdf4"
      },
      "outputs": [
        {
          "output_type": "stream",
          "name": "stdout",
          "text": [
            "7673\n",
            "8033\n"
          ]
        }
      ],
      "source": [
        "print(X_train_tfidf.get_shape()[1]) # Liczba cech wektora tfidf\n",
        "print(X_train_tfidf.get_shape()[0]) # liczba dokumentow "
      ]
    },
    {
      "cell_type": "markdown",
      "metadata": {
        "id": "jPhgU97QQToX"
      },
      "source": [
        "SVD"
      ]
    },
    {
      "cell_type": "code",
      "execution_count": null,
      "metadata": {
        "id": "oixkXmpWO2xe"
      },
      "outputs": [],
      "source": [
        "\n",
        "\n",
        "# Teraz zastosowalem model SVD aby zredukowac wymiary macierzy - aby zmniejszyc liczbe cech do mozliwego bardziej trafnego zestawu tematow. \n",
        "#Dzięki temu jest mniej cech niż w wektorach tfidf i to są mocniejsze cechy.\n",
        "\n",
        "\n",
        "from sklearn.decomposition import TruncatedSVD\n",
        "from sklearn.pipeline import make_pipeline\n",
        "from sklearn.preprocessing import Normalizer\n",
        "\n",
        "svd = TruncatedSVD(n_components=30, n_iter=100, random_state=42) # zredukowalem do 30 cech-tematow \n",
        "\n",
        "lsa = make_pipeline(svd, Normalizer(copy=False)) # Normalizacja przy uzyciu lsa\n",
        "\n",
        "\n",
        "X_train_lsa = lsa.fit_transform(X_train_tfidf) # Tworzenie modelu SVD przy pomocy redukcji wymiarow LSA dla tego zestawu danych\n"
      ]
    },
    {
      "cell_type": "code",
      "execution_count": null,
      "metadata": {
        "colab": {
          "base_uri": "https://localhost:8080/"
        },
        "id": "ReufjmqJO4OF",
        "outputId": "6b17b8b7-5509-4b5e-ca23-216fb11b646b"
      },
      "outputs": [
        {
          "output_type": "execute_result",
          "data": {
            "text/plain": [
              "(8033, 30)"
            ]
          },
          "metadata": {},
          "execution_count": 17
        }
      ],
      "source": [
        "X_train_lsa.shape # rozklad dokumentow oraz cech-tematow zdefiniowanych wczesniej"
      ]
    },
    {
      "cell_type": "code",
      "execution_count": null,
      "metadata": {
        "colab": {
          "base_uri": "https://localhost:8080/",
          "height": 476
        },
        "id": "_tXddjhkO5gf",
        "outputId": "abf7aa58-30f7-4cf5-e64f-a9b64d037cc8"
      },
      "outputs": [
        {
          "output_type": "stream",
          "name": "stdout",
          "text": [
            "[' ' '  ' '   ' '!' '\"' '#' '%' \"'\" \"''\" '(' ')' '*' '+' ',' '-' '-d'\n",
            " '-dzień' '.' '..' '...']\n",
            "7673\n"
          ]
        },
        {
          "output_type": "execute_result",
          "data": {
            "text/plain": [
              "         Temat_0   Temat_1   Temat_2   Temat_3   Temat_4   Temat_5   Temat_6  \\\n",
              "        0.068979  0.038834  0.031028  0.049219  0.032908 -0.044952 -0.027494   \n",
              "        0.004670  0.005881 -0.002804  0.010417  0.009504  0.009530 -0.003904   \n",
              "        0.000531 -0.000022  0.000250  0.000143 -0.000884  0.000965 -0.000035   \n",
              "!       0.084147  0.399983 -0.022193  0.390674  0.577312  0.198551 -0.183846   \n",
              "\"       0.049789 -0.004231 -0.010390  0.058442 -0.025685 -0.008630 -0.025791   \n",
              "...          ...       ...       ...       ...       ...       ...       ...   \n",
              "🤭       0.001271  0.001488  0.002851  0.000457  0.002526  0.002362 -0.002267   \n",
              "🤷       0.001464 -0.001487  0.001031 -0.004288  0.003193  0.001500 -0.000236   \n",
              "🥀       0.002386  0.031680 -0.007831  0.006839  0.017264  0.006015 -0.009043   \n",
              "🥂       0.000812  0.000608 -0.002967  0.001847 -0.000546  0.002084 -0.000095   \n",
              "󠁧󠁢󠁥󠁮󠁧󠁿  0.000694  0.003672 -0.000585  0.006543  0.006747  0.001047  0.003273   \n",
              "\n",
              "         Temat_7   Temat_8   Temat_9  ...  Temat_20  Temat_21  Temat_22  \\\n",
              "        0.005852  0.041793  0.051847  ... -0.195912 -0.012435  0.014485   \n",
              "       -0.002114  0.001380  0.007826  ... -0.010119 -0.005678  0.007058   \n",
              "        0.000271  0.000247  0.000332  ...  0.000018  0.001517  0.000599   \n",
              "!      -0.217726  0.009465 -0.029841  ... -0.037595 -0.165916 -0.000859   \n",
              "\"       0.015689  0.030921 -0.037592  ...  0.075306 -0.049767  0.091983   \n",
              "...          ...       ...       ...  ...       ...       ...       ...   \n",
              "🤭      -0.000815 -0.000400  0.000389  ... -0.001945 -0.000722  0.003479   \n",
              "🤷       0.001135  0.001006 -0.000460  ... -0.007063  0.005626  0.000174   \n",
              "🥀      -0.010766  0.004790  0.001993  ... -0.004032 -0.010565 -0.001950   \n",
              "🥂      -0.001988  0.003516 -0.000151  ... -0.003869  0.003684 -0.000350   \n",
              "󠁧󠁢󠁥󠁮󠁧󠁿 -0.001207 -0.002944 -0.001119  ... -0.000914 -0.002131 -0.002291   \n",
              "\n",
              "        Temat_23  Temat_24  Temat_25  Temat_26  Temat_27  Temat_28  Temat_29  \n",
              "       -0.246943  0.511501  0.350358  0.457127  0.114642 -0.107345  0.104704  \n",
              "       -0.015752  0.015914  0.012999  0.017128  0.001165 -0.004198  0.011833  \n",
              "       -0.002493 -0.001325 -0.000589 -0.000202  0.000219 -0.002155  0.001068  \n",
              "!      -0.053397 -0.029165 -0.077127 -0.049286 -0.052758 -0.024447  0.006045  \n",
              "\"      -0.180760 -0.013222  0.086496  0.008028  0.116088 -0.192101  0.278972  \n",
              "...          ...       ...       ...       ...       ...       ...       ...  \n",
              "🤭      -0.000336 -0.000165 -0.001590 -0.002521  0.000959 -0.000161 -0.000401  \n",
              "🤷       0.004911  0.001888 -0.003647  0.000894 -0.003109 -0.003017 -0.002058  \n",
              "🥀      -0.000718 -0.007872 -0.017650  0.006442  0.005222 -0.006094 -0.010307  \n",
              "🥂      -0.002304 -0.002236  0.003082 -0.001495  0.002827  0.000917 -0.001382  \n",
              "󠁧󠁢󠁥󠁮󠁧󠁿  0.003309 -0.005404  0.000366 -0.001674 -0.000356 -0.002112 -0.004675  \n",
              "\n",
              "[7673 rows x 30 columns]"
            ],
            "text/html": [
              "\n",
              "  <div id=\"df-4df727c6-aaff-4a2a-b409-4135cee9704f\">\n",
              "    <div class=\"colab-df-container\">\n",
              "      <div>\n",
              "<style scoped>\n",
              "    .dataframe tbody tr th:only-of-type {\n",
              "        vertical-align: middle;\n",
              "    }\n",
              "\n",
              "    .dataframe tbody tr th {\n",
              "        vertical-align: top;\n",
              "    }\n",
              "\n",
              "    .dataframe thead th {\n",
              "        text-align: right;\n",
              "    }\n",
              "</style>\n",
              "<table border=\"1\" class=\"dataframe\">\n",
              "  <thead>\n",
              "    <tr style=\"text-align: right;\">\n",
              "      <th></th>\n",
              "      <th>Temat_0</th>\n",
              "      <th>Temat_1</th>\n",
              "      <th>Temat_2</th>\n",
              "      <th>Temat_3</th>\n",
              "      <th>Temat_4</th>\n",
              "      <th>Temat_5</th>\n",
              "      <th>Temat_6</th>\n",
              "      <th>Temat_7</th>\n",
              "      <th>Temat_8</th>\n",
              "      <th>Temat_9</th>\n",
              "      <th>...</th>\n",
              "      <th>Temat_20</th>\n",
              "      <th>Temat_21</th>\n",
              "      <th>Temat_22</th>\n",
              "      <th>Temat_23</th>\n",
              "      <th>Temat_24</th>\n",
              "      <th>Temat_25</th>\n",
              "      <th>Temat_26</th>\n",
              "      <th>Temat_27</th>\n",
              "      <th>Temat_28</th>\n",
              "      <th>Temat_29</th>\n",
              "    </tr>\n",
              "  </thead>\n",
              "  <tbody>\n",
              "    <tr>\n",
              "      <th></th>\n",
              "      <td>0.068979</td>\n",
              "      <td>0.038834</td>\n",
              "      <td>0.031028</td>\n",
              "      <td>0.049219</td>\n",
              "      <td>0.032908</td>\n",
              "      <td>-0.044952</td>\n",
              "      <td>-0.027494</td>\n",
              "      <td>0.005852</td>\n",
              "      <td>0.041793</td>\n",
              "      <td>0.051847</td>\n",
              "      <td>...</td>\n",
              "      <td>-0.195912</td>\n",
              "      <td>-0.012435</td>\n",
              "      <td>0.014485</td>\n",
              "      <td>-0.246943</td>\n",
              "      <td>0.511501</td>\n",
              "      <td>0.350358</td>\n",
              "      <td>0.457127</td>\n",
              "      <td>0.114642</td>\n",
              "      <td>-0.107345</td>\n",
              "      <td>0.104704</td>\n",
              "    </tr>\n",
              "    <tr>\n",
              "      <th></th>\n",
              "      <td>0.004670</td>\n",
              "      <td>0.005881</td>\n",
              "      <td>-0.002804</td>\n",
              "      <td>0.010417</td>\n",
              "      <td>0.009504</td>\n",
              "      <td>0.009530</td>\n",
              "      <td>-0.003904</td>\n",
              "      <td>-0.002114</td>\n",
              "      <td>0.001380</td>\n",
              "      <td>0.007826</td>\n",
              "      <td>...</td>\n",
              "      <td>-0.010119</td>\n",
              "      <td>-0.005678</td>\n",
              "      <td>0.007058</td>\n",
              "      <td>-0.015752</td>\n",
              "      <td>0.015914</td>\n",
              "      <td>0.012999</td>\n",
              "      <td>0.017128</td>\n",
              "      <td>0.001165</td>\n",
              "      <td>-0.004198</td>\n",
              "      <td>0.011833</td>\n",
              "    </tr>\n",
              "    <tr>\n",
              "      <th></th>\n",
              "      <td>0.000531</td>\n",
              "      <td>-0.000022</td>\n",
              "      <td>0.000250</td>\n",
              "      <td>0.000143</td>\n",
              "      <td>-0.000884</td>\n",
              "      <td>0.000965</td>\n",
              "      <td>-0.000035</td>\n",
              "      <td>0.000271</td>\n",
              "      <td>0.000247</td>\n",
              "      <td>0.000332</td>\n",
              "      <td>...</td>\n",
              "      <td>0.000018</td>\n",
              "      <td>0.001517</td>\n",
              "      <td>0.000599</td>\n",
              "      <td>-0.002493</td>\n",
              "      <td>-0.001325</td>\n",
              "      <td>-0.000589</td>\n",
              "      <td>-0.000202</td>\n",
              "      <td>0.000219</td>\n",
              "      <td>-0.002155</td>\n",
              "      <td>0.001068</td>\n",
              "    </tr>\n",
              "    <tr>\n",
              "      <th>!</th>\n",
              "      <td>0.084147</td>\n",
              "      <td>0.399983</td>\n",
              "      <td>-0.022193</td>\n",
              "      <td>0.390674</td>\n",
              "      <td>0.577312</td>\n",
              "      <td>0.198551</td>\n",
              "      <td>-0.183846</td>\n",
              "      <td>-0.217726</td>\n",
              "      <td>0.009465</td>\n",
              "      <td>-0.029841</td>\n",
              "      <td>...</td>\n",
              "      <td>-0.037595</td>\n",
              "      <td>-0.165916</td>\n",
              "      <td>-0.000859</td>\n",
              "      <td>-0.053397</td>\n",
              "      <td>-0.029165</td>\n",
              "      <td>-0.077127</td>\n",
              "      <td>-0.049286</td>\n",
              "      <td>-0.052758</td>\n",
              "      <td>-0.024447</td>\n",
              "      <td>0.006045</td>\n",
              "    </tr>\n",
              "    <tr>\n",
              "      <th>\"</th>\n",
              "      <td>0.049789</td>\n",
              "      <td>-0.004231</td>\n",
              "      <td>-0.010390</td>\n",
              "      <td>0.058442</td>\n",
              "      <td>-0.025685</td>\n",
              "      <td>-0.008630</td>\n",
              "      <td>-0.025791</td>\n",
              "      <td>0.015689</td>\n",
              "      <td>0.030921</td>\n",
              "      <td>-0.037592</td>\n",
              "      <td>...</td>\n",
              "      <td>0.075306</td>\n",
              "      <td>-0.049767</td>\n",
              "      <td>0.091983</td>\n",
              "      <td>-0.180760</td>\n",
              "      <td>-0.013222</td>\n",
              "      <td>0.086496</td>\n",
              "      <td>0.008028</td>\n",
              "      <td>0.116088</td>\n",
              "      <td>-0.192101</td>\n",
              "      <td>0.278972</td>\n",
              "    </tr>\n",
              "    <tr>\n",
              "      <th>...</th>\n",
              "      <td>...</td>\n",
              "      <td>...</td>\n",
              "      <td>...</td>\n",
              "      <td>...</td>\n",
              "      <td>...</td>\n",
              "      <td>...</td>\n",
              "      <td>...</td>\n",
              "      <td>...</td>\n",
              "      <td>...</td>\n",
              "      <td>...</td>\n",
              "      <td>...</td>\n",
              "      <td>...</td>\n",
              "      <td>...</td>\n",
              "      <td>...</td>\n",
              "      <td>...</td>\n",
              "      <td>...</td>\n",
              "      <td>...</td>\n",
              "      <td>...</td>\n",
              "      <td>...</td>\n",
              "      <td>...</td>\n",
              "      <td>...</td>\n",
              "    </tr>\n",
              "    <tr>\n",
              "      <th>🤭</th>\n",
              "      <td>0.001271</td>\n",
              "      <td>0.001488</td>\n",
              "      <td>0.002851</td>\n",
              "      <td>0.000457</td>\n",
              "      <td>0.002526</td>\n",
              "      <td>0.002362</td>\n",
              "      <td>-0.002267</td>\n",
              "      <td>-0.000815</td>\n",
              "      <td>-0.000400</td>\n",
              "      <td>0.000389</td>\n",
              "      <td>...</td>\n",
              "      <td>-0.001945</td>\n",
              "      <td>-0.000722</td>\n",
              "      <td>0.003479</td>\n",
              "      <td>-0.000336</td>\n",
              "      <td>-0.000165</td>\n",
              "      <td>-0.001590</td>\n",
              "      <td>-0.002521</td>\n",
              "      <td>0.000959</td>\n",
              "      <td>-0.000161</td>\n",
              "      <td>-0.000401</td>\n",
              "    </tr>\n",
              "    <tr>\n",
              "      <th>🤷</th>\n",
              "      <td>0.001464</td>\n",
              "      <td>-0.001487</td>\n",
              "      <td>0.001031</td>\n",
              "      <td>-0.004288</td>\n",
              "      <td>0.003193</td>\n",
              "      <td>0.001500</td>\n",
              "      <td>-0.000236</td>\n",
              "      <td>0.001135</td>\n",
              "      <td>0.001006</td>\n",
              "      <td>-0.000460</td>\n",
              "      <td>...</td>\n",
              "      <td>-0.007063</td>\n",
              "      <td>0.005626</td>\n",
              "      <td>0.000174</td>\n",
              "      <td>0.004911</td>\n",
              "      <td>0.001888</td>\n",
              "      <td>-0.003647</td>\n",
              "      <td>0.000894</td>\n",
              "      <td>-0.003109</td>\n",
              "      <td>-0.003017</td>\n",
              "      <td>-0.002058</td>\n",
              "    </tr>\n",
              "    <tr>\n",
              "      <th>🥀</th>\n",
              "      <td>0.002386</td>\n",
              "      <td>0.031680</td>\n",
              "      <td>-0.007831</td>\n",
              "      <td>0.006839</td>\n",
              "      <td>0.017264</td>\n",
              "      <td>0.006015</td>\n",
              "      <td>-0.009043</td>\n",
              "      <td>-0.010766</td>\n",
              "      <td>0.004790</td>\n",
              "      <td>0.001993</td>\n",
              "      <td>...</td>\n",
              "      <td>-0.004032</td>\n",
              "      <td>-0.010565</td>\n",
              "      <td>-0.001950</td>\n",
              "      <td>-0.000718</td>\n",
              "      <td>-0.007872</td>\n",
              "      <td>-0.017650</td>\n",
              "      <td>0.006442</td>\n",
              "      <td>0.005222</td>\n",
              "      <td>-0.006094</td>\n",
              "      <td>-0.010307</td>\n",
              "    </tr>\n",
              "    <tr>\n",
              "      <th>🥂</th>\n",
              "      <td>0.000812</td>\n",
              "      <td>0.000608</td>\n",
              "      <td>-0.002967</td>\n",
              "      <td>0.001847</td>\n",
              "      <td>-0.000546</td>\n",
              "      <td>0.002084</td>\n",
              "      <td>-0.000095</td>\n",
              "      <td>-0.001988</td>\n",
              "      <td>0.003516</td>\n",
              "      <td>-0.000151</td>\n",
              "      <td>...</td>\n",
              "      <td>-0.003869</td>\n",
              "      <td>0.003684</td>\n",
              "      <td>-0.000350</td>\n",
              "      <td>-0.002304</td>\n",
              "      <td>-0.002236</td>\n",
              "      <td>0.003082</td>\n",
              "      <td>-0.001495</td>\n",
              "      <td>0.002827</td>\n",
              "      <td>0.000917</td>\n",
              "      <td>-0.001382</td>\n",
              "    </tr>\n",
              "    <tr>\n",
              "      <th>󠁧󠁢󠁥󠁮󠁧󠁿</th>\n",
              "      <td>0.000694</td>\n",
              "      <td>0.003672</td>\n",
              "      <td>-0.000585</td>\n",
              "      <td>0.006543</td>\n",
              "      <td>0.006747</td>\n",
              "      <td>0.001047</td>\n",
              "      <td>0.003273</td>\n",
              "      <td>-0.001207</td>\n",
              "      <td>-0.002944</td>\n",
              "      <td>-0.001119</td>\n",
              "      <td>...</td>\n",
              "      <td>-0.000914</td>\n",
              "      <td>-0.002131</td>\n",
              "      <td>-0.002291</td>\n",
              "      <td>0.003309</td>\n",
              "      <td>-0.005404</td>\n",
              "      <td>0.000366</td>\n",
              "      <td>-0.001674</td>\n",
              "      <td>-0.000356</td>\n",
              "      <td>-0.002112</td>\n",
              "      <td>-0.004675</td>\n",
              "    </tr>\n",
              "  </tbody>\n",
              "</table>\n",
              "<p>7673 rows × 30 columns</p>\n",
              "</div>\n",
              "      <button class=\"colab-df-convert\" onclick=\"convertToInteractive('df-4df727c6-aaff-4a2a-b409-4135cee9704f')\"\n",
              "              title=\"Convert this dataframe to an interactive table.\"\n",
              "              style=\"display:none;\">\n",
              "        \n",
              "  <svg xmlns=\"http://www.w3.org/2000/svg\" height=\"24px\"viewBox=\"0 0 24 24\"\n",
              "       width=\"24px\">\n",
              "    <path d=\"M0 0h24v24H0V0z\" fill=\"none\"/>\n",
              "    <path d=\"M18.56 5.44l.94 2.06.94-2.06 2.06-.94-2.06-.94-.94-2.06-.94 2.06-2.06.94zm-11 1L8.5 8.5l.94-2.06 2.06-.94-2.06-.94L8.5 2.5l-.94 2.06-2.06.94zm10 10l.94 2.06.94-2.06 2.06-.94-2.06-.94-.94-2.06-.94 2.06-2.06.94z\"/><path d=\"M17.41 7.96l-1.37-1.37c-.4-.4-.92-.59-1.43-.59-.52 0-1.04.2-1.43.59L10.3 9.45l-7.72 7.72c-.78.78-.78 2.05 0 2.83L4 21.41c.39.39.9.59 1.41.59.51 0 1.02-.2 1.41-.59l7.78-7.78 2.81-2.81c.8-.78.8-2.07 0-2.86zM5.41 20L4 18.59l7.72-7.72 1.47 1.35L5.41 20z\"/>\n",
              "  </svg>\n",
              "      </button>\n",
              "      \n",
              "  <style>\n",
              "    .colab-df-container {\n",
              "      display:flex;\n",
              "      flex-wrap:wrap;\n",
              "      gap: 12px;\n",
              "    }\n",
              "\n",
              "    .colab-df-convert {\n",
              "      background-color: #E8F0FE;\n",
              "      border: none;\n",
              "      border-radius: 50%;\n",
              "      cursor: pointer;\n",
              "      display: none;\n",
              "      fill: #1967D2;\n",
              "      height: 32px;\n",
              "      padding: 0 0 0 0;\n",
              "      width: 32px;\n",
              "    }\n",
              "\n",
              "    .colab-df-convert:hover {\n",
              "      background-color: #E2EBFA;\n",
              "      box-shadow: 0px 1px 2px rgba(60, 64, 67, 0.3), 0px 1px 3px 1px rgba(60, 64, 67, 0.15);\n",
              "      fill: #174EA6;\n",
              "    }\n",
              "\n",
              "    [theme=dark] .colab-df-convert {\n",
              "      background-color: #3B4455;\n",
              "      fill: #D2E3FC;\n",
              "    }\n",
              "\n",
              "    [theme=dark] .colab-df-convert:hover {\n",
              "      background-color: #434B5C;\n",
              "      box-shadow: 0px 1px 3px 1px rgba(0, 0, 0, 0.15);\n",
              "      filter: drop-shadow(0px 1px 2px rgba(0, 0, 0, 0.3));\n",
              "      fill: #FFFFFF;\n",
              "    }\n",
              "  </style>\n",
              "\n",
              "      <script>\n",
              "        const buttonEl =\n",
              "          document.querySelector('#df-4df727c6-aaff-4a2a-b409-4135cee9704f button.colab-df-convert');\n",
              "        buttonEl.style.display =\n",
              "          google.colab.kernel.accessAllowed ? 'block' : 'none';\n",
              "\n",
              "        async function convertToInteractive(key) {\n",
              "          const element = document.querySelector('#df-4df727c6-aaff-4a2a-b409-4135cee9704f');\n",
              "          const dataTable =\n",
              "            await google.colab.kernel.invokeFunction('convertToInteractive',\n",
              "                                                     [key], {});\n",
              "          if (!dataTable) return;\n",
              "\n",
              "          const docLinkHtml = 'Like what you see? Visit the ' +\n",
              "            '<a target=\"_blank\" href=https://colab.research.google.com/notebooks/data_table.ipynb>data table notebook</a>'\n",
              "            + ' to learn more about interactive tables.';\n",
              "          element.innerHTML = '';\n",
              "          dataTable['output_type'] = 'display_data';\n",
              "          await google.colab.output.renderOutput(dataTable, element);\n",
              "          const docLink = document.createElement('div');\n",
              "          docLink.innerHTML = docLinkHtml;\n",
              "          element.appendChild(docLink);\n",
              "        }\n",
              "      </script>\n",
              "    </div>\n",
              "  </div>\n",
              "  "
            ]
          },
          "metadata": {},
          "execution_count": 18
        }
      ],
      "source": [
        "feature_names = tfidf_vectorizer.get_feature_names_out()\n",
        "print(feature_names[:20]) # to sa cechy wektora tfidf\n",
        "print(len(feature_names)) # Liczba cech wektora tfidf - widzielismy juz wczesniej, ale tutaj jeszcze raz\n",
        "\n",
        "\n",
        "\n",
        "term_topic_matrix = pd.DataFrame(data=svd.components_.T, \n",
        "                                 index = feature_names, \n",
        "                                 columns = [f'Temat_{r}' for r in range(0,svd.components_.T.shape[1])]) # Macierz gdzie wiersze tworza cechy wektora natomiast kolumny to sa tematy zredukowane przez LSA\n",
        "\n",
        "\n",
        "term_topic_matrix"
      ]
    },
    {
      "cell_type": "code",
      "execution_count": null,
      "metadata": {
        "colab": {
          "base_uri": "https://localhost:8080/"
        },
        "id": "gOS3vRYXO7iU",
        "outputId": "4939d9ea-634a-4008-ccbd-08981f8b655f"
      },
      "outputs": [
        {
          "output_type": "stream",
          "name": "stdout",
          "text": [
            "['.', ',', 'nie', 'to', 'w', 'i', 'się', 'na', 'z', '?', 'że', 'a', 'jak', 'jest', 'co', 'ale', 'do', 'o', 'tak', 'rt']\n"
          ]
        }
      ],
      "source": [
        "print([feature_names[i] for i in svd.components_[0].argsort()[::-1]][:20]) # Tu widzimy wszystkie posortowane slowa od najwazniejszego do najmniej waznego dla pierwszego tematu"
      ]
    },
    {
      "cell_type": "code",
      "execution_count": null,
      "metadata": {
        "colab": {
          "base_uri": "https://localhost:8080/",
          "height": 301
        },
        "id": "wun9Fx3HO9GG",
        "outputId": "ef462bd1-934f-452b-dde7-abb0eb1cafc7"
      },
      "outputs": [
        {
          "output_type": "execute_result",
          "data": {
            "text/plain": [
              "<matplotlib.axes._subplots.AxesSubplot at 0x7fdb9c972f90>"
            ]
          },
          "metadata": {},
          "execution_count": 20
        },
        {
          "output_type": "display_data",
          "data": {
            "text/plain": [
              "<Figure size 432x288 with 1 Axes>"
            ],
            "image/png": "[encoded data removed]"
          },
          "metadata": {}
        }
      ],
      "source": [
        "import matplotlib.pyplot as plt\n",
        "data = term_topic_matrix[f'Temat_0']\n",
        "data = data.sort_values(ascending=False)\n",
        "top_20 = data[:20]\n",
        "plt.title('Najważniejsze słowa dla tematu 0')\n",
        "sns.barplot(x=top_20.values, y=top_20.index)\n",
        "\n",
        "# Tutaj wyplotowane najwazniejsze slowa dla tematu pierwszego"
      ]
    },
    {
      "cell_type": "code",
      "execution_count": null,
      "metadata": {
        "colab": {
          "base_uri": "https://localhost:8080/"
        },
        "id": "fK2tVY8xO_DG",
        "outputId": "c6b5739d-5dab-4bb5-e1d7-2f501922ba4b"
      },
      "outputs": [
        {
          "output_type": "stream",
          "name": "stdout",
          "text": [
            "['😁', '!', '😀', '?', 'no', 'to', 'hehehehehe', 'i', '😂', '👍', '🔯', '🐷', '🐑', '🥀', 'ja', '🐙', ' ', '🔫', 'tym', 'by']\n"
          ]
        }
      ],
      "source": [
        "print([feature_names[i] for i in svd.components_[1].argsort()[::-1]][:20])"
      ]
    },
    {
      "cell_type": "code",
      "execution_count": null,
      "metadata": {
        "colab": {
          "base_uri": "https://localhost:8080/",
          "height": 804
        },
        "id": "aXw0FNVQPAhH",
        "outputId": "db67e351-a488-4cdb-a32f-2ab58f4941f0"
      },
      "outputs": [
        {
          "output_type": "execute_result",
          "data": {
            "text/plain": [
              "<matplotlib.axes._subplots.AxesSubplot at 0x7f79d24801d0>"
            ]
          },
          "metadata": {},
          "execution_count": 22
        },
        {
          "output_type": "stream",
          "name": "stderr",
          "text": [
            "/usr/local/lib/python3.7/dist-packages/matplotlib/backends/backend_agg.py:214: RuntimeWarning: Glyph 128077 missing from current font.\n",
            "  font.set_text(s, 0.0, flags=flags)\n",
            "/usr/local/lib/python3.7/dist-packages/matplotlib/backends/backend_agg.py:214: RuntimeWarning: Glyph 128303 missing from current font.\n",
            "  font.set_text(s, 0.0, flags=flags)\n",
            "/usr/local/lib/python3.7/dist-packages/matplotlib/backends/backend_agg.py:214: RuntimeWarning: Glyph 128017 missing from current font.\n",
            "  font.set_text(s, 0.0, flags=flags)\n",
            "/usr/local/lib/python3.7/dist-packages/matplotlib/backends/backend_agg.py:214: RuntimeWarning: Glyph 128055 missing from current font.\n",
            "  font.set_text(s, 0.0, flags=flags)\n",
            "/usr/local/lib/python3.7/dist-packages/matplotlib/backends/backend_agg.py:214: RuntimeWarning: Glyph 129344 missing from current font.\n",
            "  font.set_text(s, 0.0, flags=flags)\n",
            "/usr/local/lib/python3.7/dist-packages/matplotlib/backends/backend_agg.py:214: RuntimeWarning: Glyph 128025 missing from current font.\n",
            "  font.set_text(s, 0.0, flags=flags)\n",
            "/usr/local/lib/python3.7/dist-packages/matplotlib/backends/backend_agg.py:214: RuntimeWarning: Glyph 128299 missing from current font.\n",
            "  font.set_text(s, 0.0, flags=flags)\n",
            "/usr/local/lib/python3.7/dist-packages/matplotlib/backends/backend_agg.py:183: RuntimeWarning: Glyph 128077 missing from current font.\n",
            "  font.set_text(s, 0, flags=flags)\n",
            "/usr/local/lib/python3.7/dist-packages/matplotlib/backends/backend_agg.py:183: RuntimeWarning: Glyph 128303 missing from current font.\n",
            "  font.set_text(s, 0, flags=flags)\n",
            "/usr/local/lib/python3.7/dist-packages/matplotlib/backends/backend_agg.py:183: RuntimeWarning: Glyph 128017 missing from current font.\n",
            "  font.set_text(s, 0, flags=flags)\n",
            "/usr/local/lib/python3.7/dist-packages/matplotlib/backends/backend_agg.py:183: RuntimeWarning: Glyph 128055 missing from current font.\n",
            "  font.set_text(s, 0, flags=flags)\n",
            "/usr/local/lib/python3.7/dist-packages/matplotlib/backends/backend_agg.py:183: RuntimeWarning: Glyph 129344 missing from current font.\n",
            "  font.set_text(s, 0, flags=flags)\n",
            "/usr/local/lib/python3.7/dist-packages/matplotlib/backends/backend_agg.py:183: RuntimeWarning: Glyph 128025 missing from current font.\n",
            "  font.set_text(s, 0, flags=flags)\n",
            "/usr/local/lib/python3.7/dist-packages/matplotlib/backends/backend_agg.py:183: RuntimeWarning: Glyph 128299 missing from current font.\n",
            "  font.set_text(s, 0, flags=flags)\n"
          ]
        },
        {
          "output_type": "display_data",
          "data": {
            "text/plain": [
              "<Figure size 432x288 with 1 Axes>"
            ],
            "image/png": "[encoded data removed]"
          },
          "metadata": {}
        }
      ],
      "source": [
        "data = term_topic_matrix[f'Temat_1']\n",
        "data = data.sort_values(ascending=False)\n",
        "top_20 = data[:20]\n",
        "plt.title('Najważniejsze słowa dla tematu 1')\n",
        "sns.barplot(x=top_20.values, y=top_20.index)"
      ]
    },
    {
      "cell_type": "code",
      "execution_count": null,
      "metadata": {
        "colab": {
          "base_uri": "https://localhost:8080/"
        },
        "id": "zzR9jgWEPCYV",
        "outputId": "bcf0afbc-036b-4bb3-829e-b4f3c6628a96"
      },
      "outputs": [
        {
          "output_type": "stream",
          "name": "stdout",
          "text": [
            "['na', 'nie', '-', 'w', 'bo', '#', ':', '😁', 'pewno', ':)', 'że', 'ale', 'jest', 'mam', 'temat', 'wiem', 'może', 'żeby', 'ten', 'było']\n"
          ]
        }
      ],
      "source": [
        "print([feature_names[i] for i in svd.components_[9].argsort()[::-1]][:20])"
      ]
    },
    {
      "cell_type": "code",
      "execution_count": null,
      "metadata": {
        "colab": {
          "base_uri": "https://localhost:8080/",
          "height": 302
        },
        "id": "sqxFkGLzPD1t",
        "outputId": "e31851d2-5b9c-4013-ab68-711e92c10274"
      },
      "outputs": [
        {
          "output_type": "execute_result",
          "data": {
            "text/plain": [
              "<matplotlib.axes._subplots.AxesSubplot at 0x7f79d228b190>"
            ]
          },
          "metadata": {},
          "execution_count": 24
        },
        {
          "output_type": "display_data",
          "data": {
            "text/plain": [
              "<Figure size 432x288 with 1 Axes>"
            ],
            "image/png": "[encoded data removed]"
          },
          "metadata": {}
        }
      ],
      "source": [
        "data = term_topic_matrix[f'Temat_9']\n",
        "data = data.sort_values(ascending=False)\n",
        "top_20 = data[:20]\n",
        "plt.title('Najważniejsze słowa dla tematu 9')\n",
        "sns.barplot(x=top_20.values, y=top_20.index)"
      ]
    },
    {
      "cell_type": "code",
      "execution_count": null,
      "metadata": {
        "colab": {
          "base_uri": "https://localhost:8080/"
        },
        "id": "ourCZFRSPFVs",
        "outputId": "6a5a3bdc-2237-472d-d2d6-ce8d8f6aadbf"
      },
      "outputs": [
        {
          "output_type": "stream",
          "name": "stdout",
          "text": [
            "['\"', 'po', '\\\\', 'jest', ':', 'nie', 'za', 'tylko', 'tym', 'jak', 'd', 'na', 'być', 'prostu', '😀', 'do', 'dla', 'a', 'jeszcze', 'tam']\n"
          ]
        }
      ],
      "source": [
        "print([feature_names[i] for i in svd.components_[29].argsort()[::-1]][:20])"
      ]
    },
    {
      "cell_type": "code",
      "execution_count": null,
      "metadata": {
        "colab": {
          "base_uri": "https://localhost:8080/",
          "height": 302
        },
        "id": "zmr6bJ87PG-3",
        "outputId": "269d4398-4eff-4c61-b99e-f9bc66dd6476"
      },
      "outputs": [
        {
          "output_type": "execute_result",
          "data": {
            "text/plain": [
              "<matplotlib.axes._subplots.AxesSubplot at 0x7f79d21fc8d0>"
            ]
          },
          "metadata": {},
          "execution_count": 26
        },
        {
          "output_type": "display_data",
          "data": {
            "text/plain": [
              "<Figure size 432x288 with 1 Axes>"
            ],
            "image/png": "[encoded data removed]"
          },
          "metadata": {}
        }
      ],
      "source": [
        "data = term_topic_matrix[f'Temat_29']\n",
        "data = data.sort_values(ascending=False)\n",
        "top_10 = data[:20]\n",
        "plt.title('Najważniejsze słowa dla tematu 29')\n",
        "sns.barplot(x=top_10.values, y=top_10.index)"
      ]
    },
    {
      "cell_type": "code",
      "execution_count": null,
      "metadata": {
        "colab": {
          "base_uri": "https://localhost:8080/",
          "height": 302
        },
        "id": "GzXGMu6MPIip",
        "outputId": "37a781b1-1b67-4ca0-fa86-1fe6b6646cfa"
      },
      "outputs": [
        {
          "output_type": "execute_result",
          "data": {
            "text/plain": [
              "<matplotlib.axes._subplots.AxesSubplot at 0x7f79d22b0a50>"
            ]
          },
          "metadata": {},
          "execution_count": 27
        },
        {
          "output_type": "display_data",
          "data": {
            "text/plain": [
              "<Figure size 432x288 with 1 Axes>"
            ],
            "image/png": "[encoded data removed]"
          },
          "metadata": {}
        }
      ],
      "source": [
        "data = term_topic_matrix.loc['duda']\n",
        "data = data.sort_values(ascending=False)\n",
        "top_20 = data[:20]\n",
        "plt.title('Tematy posortowane po znaczeniu dla słowa duda')\n",
        "sns.barplot(x=top_20.values, y=top_20.index)"
      ]
    },
    {
      "cell_type": "code",
      "execution_count": null,
      "metadata": {
        "colab": {
          "base_uri": "https://localhost:8080/",
          "height": 236
        },
        "id": "p4yA0WXiPKga",
        "outputId": "2ba60b32-51db-4027-e731-f58691faa3d5"
      },
      "outputs": [
        {
          "output_type": "error",
          "ename": "NameError",
          "evalue": "ignored",
          "traceback": [
            "\u001b[0;31m---------------------------------------------------------------------------\u001b[0m",
            "\u001b[0;31mNameError\u001b[0m                                 Traceback (most recent call last)",
            "\u001b[0;32m<ipython-input-1-ab6b65ffc98c>\u001b[0m in \u001b[0;36m<module>\u001b[0;34m()\u001b[0m\n\u001b[0;32m----> 1\u001b[0;31m \u001b[0mcolumns\u001b[0m \u001b[0;34m=\u001b[0m \u001b[0;34m[\u001b[0m\u001b[0;34mf'Temat_{r}'\u001b[0m \u001b[0;32mfor\u001b[0m \u001b[0mr\u001b[0m \u001b[0;32min\u001b[0m \u001b[0mrange\u001b[0m\u001b[0;34m(\u001b[0m\u001b[0;36m0\u001b[0m\u001b[0;34m,\u001b[0m\u001b[0msvd\u001b[0m\u001b[0;34m.\u001b[0m\u001b[0mcomponents_\u001b[0m\u001b[0;34m.\u001b[0m\u001b[0mT\u001b[0m\u001b[0;34m.\u001b[0m\u001b[0mshape\u001b[0m\u001b[0;34m[\u001b[0m\u001b[0;36m1\u001b[0m\u001b[0;34m]\u001b[0m\u001b[0;34m)\u001b[0m\u001b[0;34m]\u001b[0m \u001b[0;31m# Wszystkie 30 zredukowane prez LSA tematy\u001b[0m\u001b[0;34m\u001b[0m\u001b[0;34m\u001b[0m\u001b[0m\n\u001b[0m\u001b[1;32m      2\u001b[0m \u001b[0;34m\u001b[0m\u001b[0m\n\u001b[1;32m      3\u001b[0m document_topic_matrix = pd.DataFrame(data=X_train_lsa,\n\u001b[1;32m      4\u001b[0m                                  columns = columns) \n\u001b[1;32m      5\u001b[0m \u001b[0;34m\u001b[0m\u001b[0m\n",
            "\u001b[0;31mNameError\u001b[0m: name 'svd' is not defined"
          ]
        }
      ],
      "source": [
        "columns = [f'Temat_{r}' for r in range(0,svd.components_.T.shape[1])] # Wszystkie 30 zredukowane prez LSA tematy \n",
        "\n",
        "document_topic_matrix = pd.DataFrame(data=X_train_lsa,\n",
        "                                 columns = columns) \n",
        "\n",
        "document_topic_matrix # Widzimy przetworzona macierz dla kazdego tematu z 30 tematow (kolumny) dla kazdego dokumentu (wiersze). Kazdy dokument to osobny wektor.\n",
        "\n",
        "d = (i ** 2 for i in range(0,10000000000000000000000000))\n",
        "\n",
        "print(d)\n"
      ]
    },
    {
      "cell_type": "code",
      "execution_count": null,
      "metadata": {
        "colab": {
          "base_uri": "https://localhost:8080/",
          "height": 302
        },
        "id": "XUlG24ZEjGP6",
        "outputId": "7ac164ac-c493-4617-9a78-57ba553208e8"
      },
      "outputs": [
        {
          "output_type": "execute_result",
          "data": {
            "text/plain": [
              "<matplotlib.axes._subplots.AxesSubplot at 0x7f79d1fce990>"
            ]
          },
          "metadata": {},
          "execution_count": 29
        },
        {
          "output_type": "display_data",
          "data": {
            "text/plain": [
              "<Figure size 432x288 with 1 Axes>"
            ],
            "image/png": "[encoded data removed]"
          },
          "metadata": {}
        }
      ],
      "source": [
        "data = document_topic_matrix.loc[0]\n",
        "data = data.sort_values(ascending=False)\n",
        "top_20 = data[:20]\n",
        "plt.title('Dokument 0')\n",
        "sns.barplot(x=top_20.values, y=top_20.index) # Widzimy posortowane znaczenie danych tematow (20 ich jest w sumie tutaj) w pierwszym dokumencie ktorych w sumie jest 7029"
      ]
    },
    {
      "cell_type": "code",
      "execution_count": null,
      "metadata": {
        "colab": {
          "base_uri": "https://localhost:8080/",
          "height": 302
        },
        "id": "YNNLEhj9PM9E",
        "outputId": "e372e36a-8727-4e47-87b5-072e5693d64b"
      },
      "outputs": [
        {
          "output_type": "execute_result",
          "data": {
            "text/plain": [
              "<matplotlib.axes._subplots.AxesSubplot at 0x7f79d1edc450>"
            ]
          },
          "metadata": {},
          "execution_count": 30
        },
        {
          "output_type": "display_data",
          "data": {
            "text/plain": [
              "<Figure size 432x288 with 1 Axes>"
            ],
            "image/png": "[encoded data removed]"
          },
          "metadata": {}
        }
      ],
      "source": [
        "data = document_topic_matrix.loc[1]\n",
        "data = data.sort_values(ascending=False)\n",
        "top_20 = data[:20]\n",
        "plt.title('Dokument 1')\n",
        "sns.barplot(x=top_20.values, y=top_20.index)"
      ]
    },
    {
      "cell_type": "markdown",
      "metadata": {
        "id": "mbJDttbqY1EJ"
      },
      "source": [
        "Model uczenia maszynowego zastosowany dla modeli TFIDF oraz SVD"
      ]
    },
    {
      "cell_type": "code",
      "execution_count": null,
      "metadata": {
        "colab": {
          "base_uri": "https://localhost:8080/"
        },
        "id": "eFyld8PLPRiL",
        "outputId": "46395f4b-05d0-4f76-ccfb-0cf2f05b62aa"
      },
      "outputs": [
        {
          "output_type": "stream",
          "name": "stdout",
          "text": [
            "  (1827 / 2008) poprawnie - 90.99%\n"
          ]
        }
      ],
      "source": [
        "from sklearn.neighbors import KNeighborsClassifier\n",
        "\n",
        "\n",
        "\n",
        "knn_tfidf = KNeighborsClassifier(n_neighbors=3, algorithm='brute', metric='cosine') # zdefiniowanie klasyfikatora Knn\n",
        "knn_tfidf.fit(X_train_tfidf, y_train_labels) # Uczenie modelu na danych treningowych\n",
        "\n",
        "\n",
        "X_test_tfidf = tfidf_vectorizer.transform(X_test_raw) # transformacja danych testowych na wektory dla modelu tfidf \n",
        "\n",
        "p = knn_tfidf.predict(X_test_tfidf) # Przewidywanie wynikow na zbiorze testowym przez klasyfikator knn\n",
        "\n",
        "\n",
        "numRight = 0;\n",
        "for i in range(0,len(p)):\n",
        "    if p[i] == y_test_labels[i]:\n",
        "        numRight += 1\n",
        "\n",
        "print(\"  (%d / %d) poprawnie - %.2f%%\" % (numRight, len(y_test_labels), float(numRight) / float(len(y_test_labels)) * 100.0)) # Liczenie accuracy modelu tfidf\n",
        "\n",
        "\n"
      ]
    },
    {
      "cell_type": "code",
      "execution_count": null,
      "metadata": {
        "colab": {
          "base_uri": "https://localhost:8080/"
        },
        "id": "U1Lc5RIueE38",
        "outputId": "98006b0c-454e-460b-b0da-fd41d7b83104"
      },
      "outputs": [
        {
          "output_type": "execute_result",
          "data": {
            "text/plain": [
              "0.5530595916277283"
            ]
          },
          "metadata": {},
          "execution_count": 23
        }
      ],
      "source": [
        "from sklearn import metrics\n",
        "\n",
        "# AUC dla modelu KNN dla klasyfikatora przy uzyciu TFIDF\n",
        "\n",
        "auc = metrics.roc_auc_score(y_test_labels, p)\n",
        "auc "
      ]
    },
    {
      "cell_type": "code",
      "execution_count": null,
      "metadata": {
        "colab": {
          "base_uri": "https://localhost:8080/"
        },
        "id": "SamP3IFSP3x_",
        "outputId": "145cb4d9-a1a9-4be5-8c6a-6ea6f0218c2d"
      },
      "outputs": [
        {
          "output_type": "stream",
          "name": "stdout",
          "text": [
            "  (1802 / 2008) poprawnie - 89.74%\n"
          ]
        }
      ],
      "source": [
        "\n",
        "\n",
        "knn_lsa = KNeighborsClassifier(n_neighbors=3, algorithm='brute', metric='cosine')\n",
        "knn_lsa.fit(X_train_lsa, y_train_labels) #  trenowanie modelu svd na danych treningowych \n",
        "\n",
        "\n",
        "X_test_lsa = lsa.transform(X_test_tfidf)\n",
        "p = knn_lsa.predict(X_test_lsa) # przewidywanie labeli (czy to byl hejt czy nie) modelu knn\n",
        "\n",
        "\n",
        "\n",
        "numRight = 0;\n",
        "for i in range(0,len(p)):\n",
        "    if p[i] == y_test_labels[i]:\n",
        "        numRight += 1\n",
        "\n",
        "print(\"  (%d / %d) poprawnie - %.2f%%\" % (numRight, len(y_test_labels), float(numRight) / float(len(y_test_labels)) * 100.0)) # Liczenie accuracy dla modelu svd"
      ]
    },
    {
      "cell_type": "code",
      "execution_count": null,
      "metadata": {
        "colab": {
          "base_uri": "https://localhost:8080/"
        },
        "id": "IUH_QEaldifu",
        "outputId": "565aca2e-390b-4c3d-8115-6db963a0deca"
      },
      "outputs": [
        {
          "output_type": "execute_result",
          "data": {
            "text/plain": [
              "0.5249055879152531"
            ]
          },
          "metadata": {},
          "execution_count": 25
        }
      ],
      "source": [
        "# AUC dla modelu knn dla klasyfikatora SVD\n",
        "\n",
        "auc = metrics.roc_auc_score(y_test_labels, p)\n",
        "auc "
      ]
    },
    {
      "cell_type": "markdown",
      "metadata": {
        "id": "MbkbGX8UY9W4"
      },
      "source": [
        "MODEL NN zastosowany do modeli TFIDF oraz SVD"
      ]
    },
    {
      "cell_type": "code",
      "execution_count": null,
      "metadata": {
        "colab": {
          "base_uri": "https://localhost:8080/",
          "height": 713
        },
        "id": "Y6-RNYLv5vSk",
        "outputId": "c72b2dcc-d185-4049-bc6d-d444c22026d3"
      },
      "outputs": [
        {
          "output_type": "stream",
          "name": "stdout",
          "text": [
            "Epoch 1/10\n",
            "214/214 [==============================] - 2s 8ms/step - loss: 0.5416 - accuracy: 0.7417 - val_loss: 0.3570 - val_accuracy: 0.9095\n",
            "Epoch 2/10\n",
            "214/214 [==============================] - 2s 10ms/step - loss: 0.3045 - accuracy: 0.9173 - val_loss: 0.2956 - val_accuracy: 0.9120\n",
            "Epoch 3/10\n",
            "214/214 [==============================] - 2s 8ms/step - loss: 0.2488 - accuracy: 0.9243 - val_loss: 0.2657 - val_accuracy: 0.9170\n",
            "Epoch 4/10\n",
            "214/214 [==============================] - 2s 10ms/step - loss: 0.2028 - accuracy: 0.9378 - val_loss: 0.2440 - val_accuracy: 0.9253\n",
            "Epoch 5/10\n",
            "214/214 [==============================] - 2s 8ms/step - loss: 0.1618 - accuracy: 0.9539 - val_loss: 0.2314 - val_accuracy: 0.9286\n",
            "Epoch 6/10\n",
            "214/214 [==============================] - 2s 8ms/step - loss: 0.1287 - accuracy: 0.9665 - val_loss: 0.2257 - val_accuracy: 0.9270\n",
            "Epoch 7/10\n",
            "214/214 [==============================] - 2s 8ms/step - loss: 0.1033 - accuracy: 0.9769 - val_loss: 0.2251 - val_accuracy: 0.9245\n",
            "Epoch 8/10\n",
            "214/214 [==============================] - 2s 9ms/step - loss: 0.0839 - accuracy: 0.9829 - val_loss: 0.2284 - val_accuracy: 0.9261\n",
            "Epoch 9/10\n",
            "214/214 [==============================] - 2s 7ms/step - loss: 0.0686 - accuracy: 0.9876 - val_loss: 0.2335 - val_accuracy: 0.9270\n",
            "Epoch 10/10\n",
            "214/214 [==============================] - 2s 9ms/step - loss: 0.0568 - accuracy: 0.9895 - val_loss: 0.2414 - val_accuracy: 0.9220\n",
            "63/63 [==============================] - 0s 2ms/step - loss: 0.2452 - accuracy: 0.9213\n",
            "Test loss: 0.24524392187595367\n",
            "Test accuracy: 0.9213147163391113\n"
          ]
        },
        {
          "output_type": "display_data",
          "data": {
            "text/plain": [
              "<Figure size 576x288 with 2 Axes>"
            ],
            "image/png": "[encoded data removed]"
          },
          "metadata": {}
        }
      ],
      "source": [
        "\n",
        "import matplotlib.pyplot as plt\n",
        "import numpy as np\n",
        "import pandas as pd\n",
        "\n",
        "from keras.models import Sequential\n",
        "from keras.layers import Dense\n",
        "\n",
        "\n",
        "X_train_tfidf_array = X_train_tfidf.toarray()\n",
        "\n",
        "model = Sequential() #  NN model\n",
        "model.add(Dense(10, activation='sigmoid')) # hidden layer\n",
        "model.add(Dense(1, activation='sigmoid')) # output layer\n",
        "\n",
        "model.compile(loss='binary_crossentropy', optimizer=\"adam\", metrics=['accuracy']) # stworzenie modelu NN \n",
        "mymodel = model.fit(X_train_tfidf_array, y_train_labels, epochs=10, validation_split=0.15) # zastosowanie modelu NN do danych dla klasyfikatora TFIDF\n",
        "\n",
        "\n",
        "# Stworzenie wykresu przedstawiajacego rozklad accuracy oraz loss dla modelu NN\n",
        "def plot_loss_accuracy(loss, val_loss, acc, val_acc):\n",
        "    fig = plt.figure(figsize=(8, 4))\n",
        "    fig.suptitle('Log Loss and Accuracy over iterations')\n",
        "    ax = fig.add_subplot(1, 2, 1)\n",
        "    ax.plot(loss)\n",
        "    ax.plot(val_loss)\n",
        "    ax.grid(True)\n",
        "    ax.set(xlabel='epochs', title='Log Loss')\n",
        "    ax.legend(['train', 'validation'], loc='upper right')\n",
        "    \n",
        "    ax = fig.add_subplot(1, 2, 2)\n",
        "    ax.plot(acc)\n",
        "    ax.plot(val_acc)\n",
        "    ax.grid(True)\n",
        "    ax.set(xlabel='epochs', title='Accuracy')\n",
        "    ax.legend(['train', 'validation'], loc='lower right')\n",
        "\n",
        "plot_loss_accuracy(mymodel.history['loss'], \n",
        "                   mymodel.history['val_loss'], \n",
        "                   mymodel.history['accuracy'], \n",
        "                   mymodel.history['val_accuracy']) \n",
        "\n",
        "\n",
        "loss, accuracy = model.evaluate(X_test_tfidf.toarray(), y_test_labels) # policzenie accuracy oraz loss dla modelu NN dla TFIDF\n",
        "print('Test loss:', loss)\n",
        "print('Test accuracy:', accuracy)\n",
        "\n",
        "\n"
      ]
    },
    {
      "cell_type": "code",
      "execution_count": null,
      "metadata": {
        "colab": {
          "base_uri": "https://localhost:8080/",
          "height": 713
        },
        "id": "Y-KgXRFLfzja",
        "outputId": "35da125c-3ff6-4248-dd74-8feead48dc31"
      },
      "outputs": [
        {
          "output_type": "stream",
          "name": "stdout",
          "text": [
            "Epoch 1/10\n",
            "214/214 [==============================] - 1s 3ms/step - loss: 0.5351 - accuracy: 0.8011 - val_loss: 0.3864 - val_accuracy: 0.9095\n",
            "Epoch 2/10\n",
            "214/214 [==============================] - 1s 4ms/step - loss: 0.3314 - accuracy: 0.9162 - val_loss: 0.3130 - val_accuracy: 0.9095\n",
            "Epoch 3/10\n",
            "214/214 [==============================] - 0s 2ms/step - loss: 0.2925 - accuracy: 0.9162 - val_loss: 0.2996 - val_accuracy: 0.9095\n",
            "Epoch 4/10\n",
            "214/214 [==============================] - 0s 2ms/step - loss: 0.2839 - accuracy: 0.9162 - val_loss: 0.2964 - val_accuracy: 0.9095\n",
            "Epoch 5/10\n",
            "214/214 [==============================] - 0s 2ms/step - loss: 0.2813 - accuracy: 0.9162 - val_loss: 0.2949 - val_accuracy: 0.9095\n",
            "Epoch 6/10\n",
            "214/214 [==============================] - 0s 2ms/step - loss: 0.2797 - accuracy: 0.9162 - val_loss: 0.2936 - val_accuracy: 0.9095\n",
            "Epoch 7/10\n",
            "214/214 [==============================] - 0s 2ms/step - loss: 0.2784 - accuracy: 0.9162 - val_loss: 0.2924 - val_accuracy: 0.9095\n",
            "Epoch 8/10\n",
            "214/214 [==============================] - 0s 2ms/step - loss: 0.2772 - accuracy: 0.9162 - val_loss: 0.2911 - val_accuracy: 0.9095\n",
            "Epoch 9/10\n",
            "214/214 [==============================] - 0s 2ms/step - loss: 0.2762 - accuracy: 0.9162 - val_loss: 0.2900 - val_accuracy: 0.9095\n",
            "Epoch 10/10\n",
            "214/214 [==============================] - 0s 2ms/step - loss: 0.2754 - accuracy: 0.9162 - val_loss: 0.2892 - val_accuracy: 0.9095\n",
            "63/63 [==============================] - 0s 1ms/step - loss: 0.2808 - accuracy: 0.9153\n",
            "Test loss: 0.2807515859603882\n",
            "Test accuracy: 0.9153386354446411\n"
          ]
        },
        {
          "output_type": "display_data",
          "data": {
            "text/plain": [
              "<Figure size 576x288 with 2 Axes>"
            ],
            "image/png": "[encoded data removed]"
          },
          "metadata": {}
        }
      ],
      "source": [
        "model = Sequential() #  NN model\n",
        "model.add(Dense(10, activation='sigmoid')) # hidden layer\n",
        "model.add(Dense(1, activation='sigmoid')) # output layer\n",
        "\n",
        "model.compile(loss='binary_crossentropy', optimizer=\"adam\", metrics=['accuracy']) # Stworzenie modelu NN\n",
        "mymodel = model.fit(X_train_lsa, y_train_labels, epochs=10, validation_split=0.15) # Zastosowanie modelu NN dla klasyfikatora SVD\n",
        "\n",
        "\n",
        "def plot_loss_accuracy(loss, val_loss, acc, val_acc):\n",
        "    fig = plt.figure(figsize=(8, 4))\n",
        "    fig.suptitle('Log Loss and Accuracy over iterations')\n",
        "    ax = fig.add_subplot(1, 2, 1)\n",
        "    ax.plot(loss)\n",
        "    ax.plot(val_loss)\n",
        "    ax.grid(True)\n",
        "    ax.set(xlabel='epochs', title='Log Loss')\n",
        "    ax.legend(['train', 'validation'], loc='upper right')\n",
        "    \n",
        "    ax = fig.add_subplot(1, 2, 2)\n",
        "    ax.plot(acc)\n",
        "    ax.plot(val_acc)\n",
        "    ax.grid(True)\n",
        "    ax.set(xlabel='epochs', title='Accuracy')\n",
        "    ax.legend(['train', 'validation'], loc='lower right')\n",
        "\n",
        "plot_loss_accuracy(mymodel.history['loss'], \n",
        "                   mymodel.history['val_loss'], \n",
        "                   mymodel.history['accuracy'], \n",
        "                   mymodel.history['val_accuracy']) \n",
        "\n",
        "\n",
        "loss, accuracy = model.evaluate(X_test_lsa, y_test_labels) # policzenie loss i accuracy dla modelu SVD \n",
        "print('Test loss:', loss)\n",
        "print('Test accuracy:', accuracy)\n",
        "\n"
      ]
    },
    {
      "cell_type": "markdown",
      "metadata": {
        "id": "KClVx8A9jI5o"
      },
      "source": [
        "AUC dla modeli TFIDF oraz SVD"
      ]
    },
    {
      "cell_type": "code",
      "execution_count": null,
      "metadata": {
        "colab": {
          "base_uri": "https://localhost:8080/",
          "height": 713
        },
        "id": "GxdcEtkaaknE",
        "outputId": "fac1e400-d329-47c3-8b52-ae3ee737de77"
      },
      "outputs": [
        {
          "output_type": "stream",
          "name": "stdout",
          "text": [
            "Epoch 1/10\n",
            "214/214 [==============================] - 3s 10ms/step - loss: 0.2580 - auc: 0.7251 - val_loss: 0.2314 - val_auc: 0.8295\n",
            "Epoch 2/10\n",
            "214/214 [==============================] - 2s 9ms/step - loss: 0.1319 - auc: 0.9683 - val_loss: 0.2347 - val_auc: 0.8189\n",
            "Epoch 3/10\n",
            "214/214 [==============================] - 2s 9ms/step - loss: 0.0751 - auc: 0.9914 - val_loss: 0.2641 - val_auc: 0.8112\n",
            "Epoch 4/10\n",
            "214/214 [==============================] - 2s 9ms/step - loss: 0.0466 - auc: 0.9975 - val_loss: 0.2967 - val_auc: 0.7985\n",
            "Epoch 5/10\n",
            "214/214 [==============================] - 2s 9ms/step - loss: 0.0312 - auc: 0.9990 - val_loss: 0.3342 - val_auc: 0.7869\n",
            "Epoch 6/10\n",
            "214/214 [==============================] - 2s 9ms/step - loss: 0.0220 - auc: 0.9995 - val_loss: 0.3722 - val_auc: 0.7621\n",
            "Epoch 7/10\n",
            "214/214 [==============================] - 2s 9ms/step - loss: 0.0160 - auc: 0.9998 - val_loss: 0.4032 - val_auc: 0.7508\n",
            "Epoch 8/10\n",
            "214/214 [==============================] - 2s 9ms/step - loss: 0.0120 - auc: 0.9999 - val_loss: 0.4338 - val_auc: 0.7503\n",
            "Epoch 9/10\n",
            "214/214 [==============================] - 2s 9ms/step - loss: 0.0095 - auc: 0.9999 - val_loss: 0.4642 - val_auc: 0.7442\n",
            "Epoch 10/10\n",
            "214/214 [==============================] - 2s 9ms/step - loss: 0.0076 - auc: 1.0000 - val_loss: 0.4877 - val_auc: 0.7413\n",
            "63/63 [==============================] - 0s 3ms/step - loss: 0.4612 - auc: 0.7268\n",
            "Test loss: 0.4611779451370239\n",
            "Test AUC: 0.7268019318580627\n"
          ]
        },
        {
          "output_type": "display_data",
          "data": {
            "text/plain": [
              "<Figure size 576x288 with 2 Axes>"
            ],
            "image/png": "[encoded data removed]"
          },
          "metadata": {}
        }
      ],
      "source": [
        "model = Sequential() #  NN model\n",
        "model.add(Dense(100, activation='sigmoid')) # hidden layer\n",
        "model.add(Dense(1, activation='sigmoid')) # output layer\n",
        "\n",
        "model.compile(optimizer='adam',\n",
        "              loss='binary_crossentropy',\n",
        "              metrics=['AUC']) # Stworzenie modelu NN dla klasyfikatora TFIDF, tym razem zastosowalem miare AUC \n",
        "mymodel = model.fit(X_train_tfidf_array, y_train_labels, epochs=10, validation_split=0.15) # zastosowanie modelu NN dla klasyfikatora TFIDF \n",
        "\n",
        "\n",
        "def plot_loss_accuracy(loss, val_loss, auc, val_auc):\n",
        "    fig = plt.figure(figsize=(8, 4))\n",
        "    fig.suptitle('Log Loss and AUC over iterations')\n",
        "    ax = fig.add_subplot(1, 2, 1)\n",
        "    ax.plot(loss)\n",
        "    ax.plot(val_loss)\n",
        "    ax.grid(True)\n",
        "    ax.set(xlabel='epochs', title='Log Loss')\n",
        "    ax.legend(['train', 'validation'], loc='upper right')\n",
        "    \n",
        "    ax = fig.add_subplot(1, 2, 2)\n",
        "    ax.plot(auc)\n",
        "    ax.plot(val_auc)\n",
        "    ax.grid(True)\n",
        "    ax.set(xlabel='epochs', title='AUC')\n",
        "    ax.legend(['train', 'validation'], loc='lower right')\n",
        "\n",
        "plot_loss_accuracy(mymodel.history['loss'], \n",
        "                   mymodel.history['val_loss'], \n",
        "                   mymodel.history['auc'], \n",
        "                   mymodel.history['val_auc']) \n",
        "\n",
        "\n",
        "loss, auc = model.evaluate(X_test_tfidf.toarray(), y_test_labels) # Policzenie loss oraz AUC dla modelu NN\n",
        "print('Test loss:', loss)\n",
        "print('Test AUC:', auc)\n",
        "\n"
      ]
    },
    {
      "cell_type": "code",
      "execution_count": null,
      "metadata": {
        "colab": {
          "base_uri": "https://localhost:8080/",
          "height": 713
        },
        "id": "3TOvf4ZCjSpA",
        "outputId": "46f516ed-d504-4448-f623-bf1a73606afb"
      },
      "outputs": [
        {
          "output_type": "stream",
          "name": "stdout",
          "text": [
            "Epoch 1/10\n",
            "214/214 [==============================] - 1s 3ms/step - loss: 0.3932 - auc: 0.4978 - val_loss: 0.3272 - val_auc: 0.5507\n",
            "Epoch 2/10\n",
            "214/214 [==============================] - 0s 2ms/step - loss: 0.2981 - auc: 0.5300 - val_loss: 0.3021 - val_auc: 0.6122\n",
            "Epoch 3/10\n",
            "214/214 [==============================] - 0s 2ms/step - loss: 0.2852 - auc: 0.6209 - val_loss: 0.2982 - val_auc: 0.6425\n",
            "Epoch 4/10\n",
            "214/214 [==============================] - 0s 2ms/step - loss: 0.2821 - auc: 0.6524 - val_loss: 0.2966 - val_auc: 0.6571\n",
            "Epoch 5/10\n",
            "214/214 [==============================] - 0s 2ms/step - loss: 0.2804 - auc: 0.6687 - val_loss: 0.2951 - val_auc: 0.6709\n",
            "Epoch 6/10\n",
            "214/214 [==============================] - 0s 2ms/step - loss: 0.2790 - auc: 0.6764 - val_loss: 0.2934 - val_auc: 0.6790\n",
            "Epoch 7/10\n",
            "214/214 [==============================] - 0s 2ms/step - loss: 0.2777 - auc: 0.6802 - val_loss: 0.2921 - val_auc: 0.6809\n",
            "Epoch 8/10\n",
            "214/214 [==============================] - 0s 2ms/step - loss: 0.2765 - auc: 0.6837 - val_loss: 0.2908 - val_auc: 0.6839\n",
            "Epoch 9/10\n",
            "214/214 [==============================] - 0s 2ms/step - loss: 0.2755 - auc: 0.6849 - val_loss: 0.2894 - val_auc: 0.6913\n",
            "Epoch 10/10\n",
            "214/214 [==============================] - 0s 2ms/step - loss: 0.2747 - auc: 0.6878 - val_loss: 0.2887 - val_auc: 0.6891\n",
            "63/63 [==============================] - 0s 1ms/step - loss: 0.2808 - auc: 0.6450\n",
            "Test loss: 0.2808135151863098\n",
            "Test AUC: 0.6450217962265015\n"
          ]
        },
        {
          "output_type": "display_data",
          "data": {
            "text/plain": [
              "<Figure size 576x288 with 2 Axes>"
            ],
            "image/png": "[encoded data removed]"
          },
          "metadata": {}
        }
      ],
      "source": [
        "model = Sequential() #  NN model\n",
        "model.add(Dense(10, activation='sigmoid')) # hidden layer\n",
        "model.add(Dense(1, activation='sigmoid')) # output layer\n",
        "\n",
        "model.compile(optimizer='adam',\n",
        "              loss='binary_crossentropy',\n",
        "              metrics=['AUC'])\n",
        "mymodel = model.fit(X_train_lsa, y_train_labels, epochs=10, validation_split=0.15) # Tym razem zastosowanie modelu NN dla modelu SVD przy uzyciu miary AUC\n",
        "\n",
        "\n",
        "def plot_loss_accuracy(loss, val_loss, auc, val_auc):\n",
        "    fig = plt.figure(figsize=(8, 4))\n",
        "    fig.suptitle('Log Loss and AUC over iterations')\n",
        "    ax = fig.add_subplot(1, 2, 1)\n",
        "    ax.plot(loss)\n",
        "    ax.plot(val_loss)\n",
        "    ax.grid(True)\n",
        "    ax.set(xlabel='epochs', title='Log Loss')\n",
        "    ax.legend(['train', 'validation'], loc='upper right')\n",
        "    \n",
        "    ax = fig.add_subplot(1, 2, 2)\n",
        "    ax.plot(auc)\n",
        "    ax.plot(val_auc)\n",
        "    ax.grid(True)\n",
        "    ax.set(xlabel='epochs', title='AUC')\n",
        "    ax.legend(['train', 'validation'], loc='lower right')\n",
        "\n",
        "plot_loss_accuracy(mymodel.history['loss'], \n",
        "                   mymodel.history['val_loss'], \n",
        "                   mymodel.history['auc'], \n",
        "                   mymodel.history['val_auc']) \n",
        "\n",
        "\n",
        "loss, auc = model.evaluate(X_test_lsa, y_test_labels)\n",
        "print('Test loss:', loss)\n",
        "print('Test AUC:', auc)\n"
      ]
    },
    {
      "cell_type": "markdown",
      "metadata": {
        "id": "9BwTKJhO6-VR"
      },
      "source": [
        "FASTTEXT"
      ]
    },
    {
      "cell_type": "code",
      "execution_count": null,
      "metadata": {
        "colab": {
          "base_uri": "https://localhost:8080/"
        },
        "id": "OkCgBNib67pZ",
        "outputId": "c1b9b7d1-3f09-4958-f838-ddbdbf5637cc"
      },
      "outputs": [
        {
          "output_type": "stream",
          "name": "stdout",
          "text": [
            "Requirement already satisfied: fasttext in /usr/local/lib/python3.7/dist-packages (0.9.2)\n",
            "Requirement already satisfied: setuptools>=0.7.0 in /usr/local/lib/python3.7/dist-packages (from fasttext) (62.3.2)\n",
            "Requirement already satisfied: numpy in /usr/local/lib/python3.7/dist-packages (from fasttext) (1.21.6)\n",
            "Requirement already satisfied: pybind11>=2.2 in /usr/local/lib/python3.7/dist-packages (from fasttext) (2.9.2)\n",
            "\u001b[33mWARNING: Running pip as the 'root' user can result in broken permissions and conflicting behaviour with the system package manager. It is recommended to use a virtual environment instead: https://pip.pypa.io/warnings/venv\u001b[0m\u001b[33m\n",
            "\u001b[0m"
          ]
        }
      ],
      "source": [
        "!python3 -m pip install fasttext"
      ]
    },
    {
      "cell_type": "code",
      "execution_count": null,
      "metadata": {
        "id": "fc65kQMjNIC2"
      },
      "outputs": [],
      "source": [
        ""
      ]
    },
    {
      "cell_type": "code",
      "execution_count": null,
      "metadata": {
        "id": "OODvjLdg7TGi"
      },
      "outputs": [],
      "source": [
        "import fasttext\n",
        "\n",
        "def prepare_data(y, X, saved_data):\n",
        "\n",
        "\n",
        "  data_list = []\n",
        "\n",
        "  for i in zip(y, X):\n",
        "    data_list.append([\"__label__\"+str(i[0])]+spacy_tokeniser(i[1]))\n",
        "  np_list = np.array(data_list, dtype = list)\n",
        "  np.random.shuffle(np_list)\n",
        "\n",
        "  for _, i in enumerate(np_list):\n",
        "    saved_data.write(\" \".join(i) + '\\n')\n"
      ]
    },
    {
      "cell_type": "code",
      "execution_count": null,
      "metadata": {
        "id": "u2cXCmsFGRFR"
      },
      "outputs": [],
      "source": [
        "with open('train_data.txt', 'w') as train_data:\n",
        "  prepare_data(y_train_labels, X_train_raw, train_data)\n",
        "\n",
        "with open('test_data.txt', 'w') as test_data:\n",
        "  prepare_data(y_test_labels, X_test_raw, test_data)"
      ]
    },
    {
      "cell_type": "code",
      "execution_count": null,
      "metadata": {
        "colab": {
          "base_uri": "https://localhost:8080/"
        },
        "id": "WLFdUIzvE6cu",
        "outputId": "9fec2df6-3270-4ad8-eb98-ac53993c579c"
      },
      "outputs": [
        {
          "output_type": "stream",
          "name": "stdout",
          "text": [
            "__label__0 @anonymized_account nie wiem dlaczego tak jest ale cieszę się , że nie jestem w tym sama XD\n",
            "__label__0 @anonymized_account @anonymized_account Houston pracuje nad tym żeby to inaczej przedstawić :)\n",
            "__label__0 @anonymized_account @anonymized_account @anonymized_account Nie ma to jak samozachwyt\n",
            "__label__0 @anonymized_account Nie , będę siedział i patrzył jak zaraza pisowska się rozprzestrzenia\n",
            "__label__0 @anonymized_account Rawie jak od trolla z San escobar\n",
            "__label__0 @anonymized_account @anonymized_account Mniej TVNu więcej własnych przemyśleń.\\nRadosnego świętowania życzę .\n",
            "__label__0 @anonymized_account Nie bardzo , bo chodzi o to , żeby mu trochę pomóc finansowo , bo ma ciężko , a reklamował się , jako złota rączka 🤔 🤪\n",
            "__label__0 @anonymized_account Hehehehehe . Szarańczę każdy pozna z daleka po odnózach i czółkach 😁 😁 😁 😁\n",
            "__label__0 @anonymized_account Bo z legia nieliczcie na karnego z varu 😞\n",
            "__label__0 @anonymized_account Od meczu z Pogonią gramy ciągle taką samą chujnie .\n"
          ]
        }
      ],
      "source": [
        "!head train_data.txt"
      ]
    },
    {
      "cell_type": "code",
      "execution_count": null,
      "metadata": {
        "colab": {
          "base_uri": "https://localhost:8080/"
        },
        "id": "SIFKf8Z9FBks",
        "outputId": "2481c5ef-9690-403d-ee10-4a5f8cd3828e"
      },
      "outputs": [
        {
          "output_type": "stream",
          "name": "stdout",
          "text": [
            "__label__0 @anonymized_account @anonymized_account Ja zaraz zaczynam :) muszę jeszcze przyszykować garnitur 😂\n",
            "__label__0 @anonymized_account @anonymized_account Z całym szacunkiem , ale staże w klubach zagranicznych nie mogą być argumentem za .\n",
            "__label__0 @anonymized_account @anonymized_account @anonymized_account Na razie to Wy się pchacie pod tweety o Jagiellonii , wszechmistrzowie 😉\n",
            "__label__0 @anonymized_account a skąd , gdzie ja do baletu :-)\n",
            "__label__0 RT @anonymized_account rozjebala się jak Rosja na mapie i siedzi kurwa\n",
            "__label__0 @anonymized_account Za to on jest mistrzem we wszystkim i jest najmądrzejszy .\n",
            "__label__0 @anonymized_account @anonymized_account @anonymized_account @anonymized_account Niedawno narzekałeś , że nie zwraca się uwagi na różne szczegóły 😜\n",
            "__label__0 @anonymized_account a wiadomo co z Korczyńskim ?\n",
            "__label__0 Koleżanka z która nie gadałam miesiąc chyba wysłała mi 👋 na messengerze i odrazu „ o kurwa przepraszam ”\n",
            "__label__0 @anonymized_account a co w Lechu nie miał sianka ? @anonymized_account\n"
          ]
        }
      ],
      "source": [
        "!head test_data.txt"
      ]
    },
    {
      "cell_type": "code",
      "execution_count": null,
      "metadata": {
        "id": "0ASSLYG0LWDW"
      },
      "outputs": [],
      "source": [
        "ft_model = fasttext.train_unsupervised('train_data.txt', model='skipgram', dim=300, minn=2, maxn=5, epoch=10, lr=0.1, thread=1)"
      ]
    },
    {
      "cell_type": "code",
      "execution_count": null,
      "metadata": {
        "colab": {
          "base_uri": "https://localhost:8080/"
        },
        "id": "N-R8wpgG4VEn",
        "outputId": "f36e783f-2312-48d0-a861-1cb2d7257790"
      },
      "outputs": [
        {
          "output_type": "stream",
          "name": "stdout",
          "text": [
            "['@anonymized_account', '</s>', '.', ',', 'nie', 'to', 'w', '?', 'na', 'i', 'się', 'z', 'że', 'do', '!', 'jak', 'jest', '😁', 'a', 'co', ':)', 'o', 'RT', 'ale', 'A', 'za', '😂', 'tak', '-', 'ma', 'po', 'bo', 'Nie', 'już', 'tylko', '#', 'czy', 'To', 'tym', 'ze', '\"', 'mi', 'od', 'będzie', 'dla', 'też', 'ja', 'tego', 'mnie', 'W', 'Ale', 'No', 'I', 'było', 'ten', 'jeszcze', 'może', 'mam', 'tam', 'chyba', 'teraz', 'coś', 'Jak', ':', 'być', 'sobie', 'by', 'są', '/', 'był', '😀', 'żeby', 'Tak', '😉', 'wiem', 'te', 'go', 'ty', 'ktoś', 'przez', 'nic', 'Z', 'można', 'takie', 'Bo', '…', 'Ja', 'Na', 'no', 'bez', 'Co', 'więc', 'bardzo', ';-)', 'O', 'Ty', 'niż', 'mu', 'trzeba', 'tu', 'masz', 'jesteś', 'wszystko', 'kto', 'dobrze', 'gdzie', 'jestem', 'Pan', 'nawet', 'taki', 'u', 'meczu', 'ich', 'sie', 'mają', 'tej', 'więcej', 'lat', 'przy', 'chodzi', 'który', 'mecz', 'chce', ')', 'była', 'albo', '3', 'dzisiaj', 'nas', 'miał', 'pewnie', ':D', 'Ci', 'przecież', ';)', '%', 'zawsze', 'jego', 'dziś', 'roku', 'Wisły', 'mieć', 'ile', 'ta', '(', 'tych', 'przed', 'Może', 'bardziej', 'były', 'siebie', '2', '🤣', 'kiedy', 'dalej', 'takim', 'kurwa', 'Pani', 'Czy', 'czas', 'Przecież', '😜', 'wtedy', 'PO', 'pod', 'będą', 'was', 'skoro', 'tyle', 'jutro', 'trochę', 'XD', 'ci', ':P', 'jakieś', 'jakiś', 'samo', 'on', '\\\\', 'Chyba', 'mogę', 'Wisła', 'mamy', 'nikt', 'raz', 'sam', '4', 'gra', '100', '...', 'takiego', 'czym', 'dzień', 'im', 'wszyscy', 'taka', '1', 'wie', 'grać', 'jeden', 'lepiej', 'temu', 'robi', 'PiS', 'końcu', 'mówi', 'jednak', 'bym', 'czyli', 'takich', 'jaki', 'Polsce', 'ludzie', 'właśnie', 'raczej', 'nigdy', '️', 'sumie', 'kiedyś', 'xd', '5', ';', 'niech', 'wy', 'Polski', 'czego', 'dzieci', 'razie', 'niego', 'Tylko', '😎', 'my', 'widzę', 'NIE', 'pewno', 'ludzi', 'da', 'Już', 'jeśli', 'musi', 'grał', 'swoje', 'jakby', 'Ciebie', 'prostu', 'cały', 'jako', 'każdy', 'Mam', 'Jest', 'życie', 'mln', 'będę', 'pieniądze', 'Kto', 'wam', 'gdy', 'dużo', 'Po', 'moja', '💪', 'zrobić', '😍', 'pani', 'wszystkich', 'Jeszcze', 'razem', 'nich', 'nim', '10', 'problem', 'dni', 'pracy', 'macie', 'czasu', 'Ten', 'mój', 'temat', 'Teraz', 'U', 'miałam', '👍', 'chciał', 'TW', 'jakie', 'pytanie', 'aż', 'jej', 'dwa', 'widać', 'dlatego', 'nad', 'proszę', 'cię', ':-)', 'wiadomo', 'ciebie', 'powinien', '👏', 'znowu', 'innych', 'czemu', 'Czyli', 'zaraz', 'dobry', 'juz', 'sędzia', 'Ej', '\\\\nhttps://t.co', 'jednym', 'mecze', 'miała', 'zawodników', 'Pewnie', 'Polacy', 'wiec', 'sezonie', 'jakaś', 'iść', 'kilka', 'Wy', 'ciekawe', 'nam', 'klubu', 'Jeśli', 'słowa', 'wczoraj', 'Woronicza17', 'tą', 'prawda', 'prawo', 'wiesz', 'je', 'które', 'tez', 'dopiero', '😄', 'Wiśle', 'Pana', 'TVN', 'Od', 'info', 'Legii', 'rok', 'chuj', 'mogą', 'będziesz', 'dlaczego', 'kibiców', 'PiSu', 'tyś', 'dobre', 'Cię', 'ogóle', 'poza', 'później', 'lata', 'taką', 'Jestem', '😊', 'gdyby', 'idzie', 'dawno', '15', 'kogo', \"'\", 'wykonawcy', 'Nic', 'domu', 'możesz', 'Za', 'swoich', 'tacy', 'Panie', 'szybko', 'karny', 'bedzie', 'wygląda', 'powinno', 'wszystkie', 'kasy', 'robić', 'życia', 'gdzieś', ':(', 'dzięki', 'NA', 'byli', 'super', 'chcesz', 'Bardzo', 'mózg', 'Ciekawe', 'Do', 'Albo', 'osób', 'mniej', 'Dobra', 'zostanie', 'tt', 'oczywiście', 'rzeczy', 'wg', 'myślałem', 'myśli', 'pierwszy', 'Wiem', 'drugi', 'Skoro', 'tys', 'Dla', 'pierwszym', 'mało', 'Też', 'nowy', 'Polska', 'moim', '....', 'dobra', '\\\\n', 'powiedzieć', 'kontrakt', 'muszę', 'stronę', '20', 'the', 'Jaki', 'we', 'gry', 'trenera', 'Taki', 'TO', 'Nawet', 'przynajmniej', 'która', 'moje', 'Gdzie', 'powinni', 'inaczej', 'zamiast', 'mieli', 'którzy', '🏻', 'Gdyby', 'kibice', 'Polskę', 'Niech', 'znaczy', 'Polaków', 'Masz', 'Nikt', 'ładnie', 'wiedzieć', 'ją', 'pajacu', 'lidze', 'klub', 'historii', 'Oczywiście', 'zrobił', 'jakoś', '+', 'jaka', 'potem', 'mojego', 'oni', 'akurat', 'pan', 'Tobie', 'minut', 'dwóch', 'niestety', 'Myślę', 'wychodzi', 'piłki', 'Dzisiaj', 'sama', 'brawo', 'swoim', 'poziom', 'Brawo', 'zdjęcie', '😛', 'sezon', 'Zawsze', 'kraju', '18', 'Dobrze', 'powiedział', 'którym', 'razy', 'Szkoda', 'miało', 'inne', 'coraz', 'kasę', 'czasem', 'źle', 'Lech', 'fajnie', 'sprawa', 'swojego', 'niby', 'dupie', 'trzy', 'chcę', 'stara', '„', 'brak', 'Oj', 'został', 'Legia', 'imię', 'On', 'meczów', 'jesteście', 'nadal', 'chcą', 'swoją', '🥀', 'napisać', 'chociaż', 'marsz', 'szkoda', 'konto', 'zdanie', 'Wypozyczeni', '50', 'Coś', 'pół', 'pkt', 'Wczoraj', '*', 'innego', 'razu', 'prezes', 'chodziło', 'niej', 'drugiej', 'znam', 'oczy', 'skład', 'Moja', 'rozumiem', 'wiele', 'widziałem', 'życzę', 'wszystkiego', 'pisze', 'strony', 'euro', 'ok', 'ważne', 'których', 'wcale', 'boli', '❤', 'zł', 'człowiek', 'swój', 'Kiedy', 'media', '”', 'niema', 'wynik', 'Widzę', ':/', 'Takie', 'aby', 'myślę', 'skąd', 'dupy', 'TT', 'często', 'musiał', 'kogoś', 'trener', '11', 'Was', 'miejsce', '🤔', 'BONG', 'dwie', 'nasze', 'Wszystko', 'Wszyscy', 'inny', 'Ta', 'piątek', 'czuje', 'poziomie', '6', 'ciągle', 'Dlaczego', 'jesteśmy', 'lub', 'kim', 'wcześniej', 'hehe', 'mówił', 'Właśnie', 'państwa', 'PSL', 'jedno', 'Jutro', 'naprawdę', 'mówią', 'VAR', 'żyje', 'Niestety', 'wiedzą', 'napisał', 'ani', 'Skąd', 'wszystkim', '💐', 'oby', 'film', 'sposób', 'Prezes', 'zbyt', 'oglądać', 'Każdy', 'ostatnio', 'dnia', 'byłby', 'wstyd', 'Warszawie', 'pisać', 'dostał', '🌹', 'Dzięki', 'se', 'program', '\\\\n\\\\nhttps://t.co', 'Ktoś', 'tydzień', 'najbardziej', 'np', 'wieku', 'mld', 'zawodnika', 'byłoby', 'końca', 'błąd', 'dokładnie', 'trenerem', 'piłkarzy', 'Krakowie', 'Jasne', 'różnica', 'x', 'same', 'mocno', 'jakim', 'powie', 'wrażenie', 'spoko', 'wystarczy', 'tweet', 'udało', 'szanse', '😆', 'świat', 'Proszę', 'grają', 'jakiej', 'haha', 'szczęście', '7', 'xD', 'świata', 'mógł', 'zaczął', 'legia', 'każdym', 'rację', 'widzisz', 'wielki', 'stało', 'słaby', 'partii', 'zdjęcia', '16', 'sytuacji', 'Kraków', 'Tu', 'Trzeba', 'środku', 'piłkę', '😱', 'mimo', '☹', 'dobrą', 'najlepiej', 'słowo', 'Lepiej', 'kwestii', 'którego', 'mówisz', 'serio', 'Kaczyński', '8', 'ostatnich', 'zawodnik', 'nadzieje', 'mówić', '30', 'zespół', 'prawa', 'publicznie', 'zostać', 'normalne', 'kciuki', 'wydaje', '500', 'weź', 'Rozumiem', 'koniec', '40', 'tę', 'Jakby', 'Lis', 'rzeczywiście', 'piłka', 'okazji', 'lepszy', 'życiu', 'sami', 'gówno', 'idę', 'takiej', 'znać', 'tweeta', 'widziałam', 'żaden', 'Tusk', 'TVP', 'słów', 'ligi', 'jedna', 'Są', 'jednej', 'stronie', '12', 'prawie', 'P', 'problemy', 'Kiedyś', 'Ronaldo', 'byś', 'zrobi', 'pokoju', 'sprawie', 'Zero', '🔯', 'Tym', 'Morawiecki', 'Euro', 'robią', 'działa', 'nami', 'Jesteś', 'UE', 'jedynie', 'meczach', 'LM', 'Widzew', 'stary', 'twoja', 'uwagę', 'czasie', 'marzeń', '❗', 'min', '21', 'Oby', 'większość', 'bramki', 'chciałam', 'wciąż', 'zobaczyć', 'drużyna', 'pierwszej', 'przychodzi', 'Widać', 'dupę', 'mózgu', 'sensu', 'prezydent', 'chwilę', 'choć', 'Jaka', '..', 'Hehehehehe', 'żadnej', 'najlepszego', 'Dziś', 'zna', 'komuś', 'jednego', 'napewno', 'NAME', 'mną', 'wolno', 'widze', 'twarz', 'zmiany', 'Można', 'drugie', 'długo', 'przypadku', 'bliżej', 'X', 'sorry', 'Kurwa', 'debila', 'dał', 'tutaj', 'zagrał', 'czekać', 'koledzy', 'konta', 'zupełnie', 'D', 'zero', 'osoby', 'myślałam', 'pracuje', 'wyniki', 'sa', 'spokojnie', 'pisdzielstwo', 'klubów', 'fajny', 'pamiętam', 'głos', 'stylu', 'świecie', 'Warszawy', 'nowe', 'obchodzi', 'normalnie', '🇱', '🇵', 'muszą', 'komu', 'ostatnie', '♀', 'BO', 'byłam', 'pieniędzy', 'Twój', 'wspólnego', 'zostało', 'Będzie', 'Ok', 'm', 'dno', 'której', 'wszędzie', 'blisko', '=', 'pokazał', 'mały', 'niektórych', 'kwestia', 'kocham', 'innym', 'kasa', 'MA', 'wieczorem', 'prawdę', 'Cracovia', 'plus', 'SIĘ', '0', 'CO', 'szacunku', 'Poza', 'miliony', 'Twoje', 'możemy', 'Kolejny', 'ojca', 'żadnych', 'wróci', 'Tez', 'podobno', 'rundy', 'rząd', 'Był', 'żywo', '✌', 'pierwsze', 'sytuacja', 'musisz', 'znów', 'historia', 'Czemu', 'polski', 'słyszałem', 'JA', 'również', 'Przy', 'Tego', 'tygodniu', 'rana', 'spotkania', 'informacji', 'góry', 'całym', 'wiemy', 'mood', 'żart', 'wasze', 'wątpliwości', 'godzin', 'Trochę', 'panie', 'ciężko', 'jaja', 'Białymstoku', 'Europy', 'podstawie', 'kradli', 'nazywa', 'duże', 'kluby', 'chwili', 'dam', 'drugą', 'kolejce', '\\xa0', 'sejmie', 'liczy', 'drużyny', 'zdaniem', 'inni', 'Oni', 'będziemy', 'bramek', 'głupoty', 'finał', 'rozwiązanie', '14', 'słabo', 'wchodzi', 'Serio', 'chuja', 'późno', 'pisał', 'lustro', 'nowa', 'wreszcie', 'dziękuje', 'minuty', 'oznacza', 'Pigiel', 'chwile', 'mistrza', 'pozdrawiam', 'miejscu', 'poważnie', 'Zaraz', 'ochotę', 'formie', '\\u200d', 'debile', 'jakiegoś', 'nią', 'jakąś', 'reszta', 'drugim', 'powodu', 'biletów', 'prezent', 'mogła', 'kompletnie', 'faktycznie', 'zgadza', 'umie', 'J', 'Hehe', 'wielkie', 'szczególnie', 'całą', 'zacznie', 'byłem', 'sezonu', 'brakuje', 'większe', 'debil', 'przestać', 'e', 'ktos', 'podczas', 'sędziów', 'moich', '😘', 'głową', 'Czyżby', 'pytania', 'momencie', 'polecam', 'całe', 'kraj', 'kupić', 'skończy', 'czegoś', 'zmienić', 'wygra', 'godziny', 'SN', 'kobieto', 'sędziego', 'ręce', 'dobrej', 'pierwszego', 'II', 'efekt', 'tweetme', 'Senegalem', 'marszu', 'Tam', 'Kamila', 'opozycji', 'nikogo', 'myślisz', 'Najpierw', 'uwage', 'facet', 'serce', 'Niemcy', 'jakiego', 'pójdzie', 'strasznie', 'nogi', 'meczem', 'rozumie', 'Ile', 'zmienia', 'punktów', 'zapomniałam', 'ilu', 'głupi', 'wyborach', 'mógłby', 'ponoć', 'dziwie', 'póki', 'kadrze', 'wiecie', 'gola', 'zły', 'pomóc', 'nagrody', 'wywiad', 'suka', 'piłkarz', 'czytać', 'czerwona', 'tymi', 'CLJ', 'interesuje', 'twoje', 'czasów', 'Żeby', 'dostać', 'Premier', 'maja', 'następnym', 'L', 'robił', 'chcieli', 'kobiet', 'IQ', 'Podbeskidzie', 'gramy', 'wygrał', 'finale', 'chory', 'wyłącznie', 'My', 'zagra', 'is', 'głowy', 'władzy', 'RP', 'drugiego', 'samego', 'nasz', 'pomocy', 'dividetourwarsaw', 'miejsca', 'lubi', 'Te', 'woronicza17', 'oprócz', '9', 'złodziei', 'lepsza', 'koło', 'poseł', 'honor', 'debilem', 'Dobry', 'polskich', 'czytam', 'jaj', 'żadnego', 'Cracovii', 'H', 'Zobaczymy', 'Mamy', 'niczego', 'środka', 'swojej', 'posła', 'DO', 'dość', 'szybciej', 'karnym', 'wynika', 'nieźle', 'Tobą', 'widział', 'wyszło', 'turnieju', 'Misiek', 'takimi', 'kobiety', 'dupa', 'dać', 'telefon', 'jazdy', 'kontraktu', 'Dziękuję', 'trzech', 'Ligi', 'zostaje', '24', 'ogląda', 'artykuł', 'drużyn', '0:0', 'mówię', 'niektórzy', 'moze', 'stoi', 'walka', 'ha', 'kościoła', 'dziennikarzy', 'Mogę', 'pyta', 'kolejne', 'Ma', 'TV', 'dostali', 'czekam', 's', 'walczyć', '.@anonymized_account', 'itp', 'zajęcia', 'ostatniej', 'przede', 'szacunek', 'miło', 'tobie', 'dzieje', 'człowieka', 'nowego', 'mówiąc', 'one', 'czeka', 'piwo', 'zakaz', 'Weź', 'naszego', 'The', 'dzisiejszym', 'nadaje', 'Muszę', 'Duda', 'Polak', 'psychiatry', 'sprawdzić', 'debili', 'sporo', 'Super', 'pokazać', 'tekst', 'rezerw', 'Trudno', 'zasługuje', 'wiedział', 'kolegami', 'TheVoiceOfPoland', 'Mączyński', 'Tuska', 'mieliśmy', 'bramce', 'Moje', 'Poseł', 'patrzeć', 'moge', 'Rosji', 'piszesz', 'musimy', '🤗', 'Aż', 'mordę', 'możliwości', '400', 'pamięć', 'pora', 'powiedz', 'MI', 'Który', '2000', 'zaczyna', 'sprawę', 'Boże', 'fajne', 'E', 'grę', 'uczyć', 'wpierdol', 'ostatni', 'bana', 'samą', 'wygrała', 'Jagiellonii', 'sens', 'rocznik', 'spać', 'Rio', 'Przez', 'Mi', 'nimi', 'auto', 'sędziowie', 'koszulki', 'Jeden', 'początku', 'wypadku', 'Dlatego', 'pokazuje', 'stać', 'człowieku', 'zobaczymy', 'karty', 'część', 'Wiadomo', 'twój', 'Mystkowski', 'ławce', 'sobą', 'chciałabym', 'moment', '😩', 'mózgowe', 'PL', 'udział', 'biega', 'urodziny', 'zagrać', 'darmo', 'patrzy', 'łeb', 'daje', 'Dajcie', '☝', 'mogli', 'trafił', 'trudno', 'oraz', 'wśród', 'ziemi', 'zgadzam', 'Jakieś', 'Lecha', 'Pawłowicz', 'przeciw', 'ALE', 'poziomu', 'możliwe', 'pytam', 'Wystarczy', 'zrozumieć', 'podobne', 'słuchać', '💁', 'stadionu', 'karnego', 'żebyś', 'Czekam', 'rundzie', 'Szymon', 'potrafi', 'pamietam', 'powinna', 'oj', 'pojęcia', 'napisane', 'Ave', '’', 'złe', 'moc', 'JEST', 'Gratuluję', 'in', 'naszych', 'tv', 'chodzić', '90', 'przejść', 'zachowanie', 'Wam', 'Gersdorf', 'przypadek', 'każde', 'chętnie', 'czasy', 'Prezydent', 'temacie', 'praca', 'stare', 'wybory', 'złego', 'podoba', 'polskie', 'zrobiła', 'pisałeś', 'bramkarz', 'trzymam', 'siedzieć', 'szans', 'transfery', 'tematu', 'Morawieckiego', 'Patryk', 'Szczerze', 'budżetu', 'Twittera', 'pisowskie', 'zrobiło', 'Dudy', 'Jego', 'Kibice', 'piłke', '🙊', 'kimś', '2016', 'bredzisz', 'dziećmi', 'Jakie', 'grała', 'brat', 'vs', 'ONR', 'kończy', 'potrzebuje', 'Podobno', 'bierze', 'k', 'obecnie', 'jedną', '🙈', 'ciekawa', 'składzie', 'fejk', 'bramkarza', 'tysięcy', 'nowym', 'klubie', 'żony', 'transferu', 'Wolę', 'liga', 'napisałeś', '😨', 'miasta', 'przepis', 'polityk', 'rzecz', 'złodziej', 'widzi', 'znaleźć', 'S', 'kupił', 'głowa', 'ciała', 'całej', 'wody', 'mama', 'K', 'chciała', 'T', 'Jaga', 'polu', 'sklepu', 'burdelu', 'Irlandii', 'wyjścia', 'radość', 'gram', 'Dopiero', 'Twitterze', 'lubię', 'strzelił', 'transfer', 'Spokojnie', 'grali', 'frekwencja', 'opinii', 'ucho', 'małe', 'miłości', 'roboty', 'punkt', 'Beata', 'nikomu', 'idk', 'cha', 'legi', 'kase', 'wyjdzie', 'zależy', 'tylu', 'przyjdzie', 'Dziadek', 'grupowej', 'mówili', 'kolejnego', 'żyć', 'Dwa', 'zrobiono', 'mów', '🐑', 'między', 'wina', 'obok', 'chłopie', '🐷', 'milionów', 'Twoja', 'p', 'Dziękujemy', 'cie', 'Wisłą', 'link', 'oglądałam', 'specjalnie', 'wypowiedzi', 'spełnienia', 'awans', 'debilu', 'piękne', 'znaczenia', 'spodziewać', 'porażka', 'waszych', 'dziecko', '19', 'lepsze', 'płacą', 'decyzja', 'tel', 'kilku', 'siedzi', 'Jakiś', 'miłość', 'you', 'została', 'Następny', 'ból', 'Ekstraklasie', 'punkty', 'itd', 'numer', 'rządzić', 'nagle', 'jezu', 'oficjalnie', 'pytać', 'Nawałka', 'zastanawiam', 'jakimś', 'Kocham', 'przerwy', 'decyzji', 'var', 'stadionie', 'chwila', 'halo', 'obrońców', 'wokół', 'dziękuję', 'brać', 'Balbina', 'zjeby', 'ekstraklasie', 'rady', 'ładny', 'zeszłym', 'frekwencji', 'spokój', 'Znowu', 'Polecam', 'ryju', 'III', 'pierwsza', 'około', 'Ostatnio', 'gratulacje', 'koniecznie', 'wiosną', 'stadion', 'zdjęć', 'Panu', 'spotkać', 'Kiko', 'akcje', '2013', 'Tata', 'każdemu', 'XDD', 'leży', 'piosenka', 'znajdzie', 'którą', 'samej', 'sądzę', 'powinniśmy', 'inna', 'chłop', 'pomysł', 'damy', 'jedyny', 'bura', 'Łodzi', 'Banda', 'mistrz', 'byłeś', 'Niemiec', 'rękach', 'okna', 'proste', 'byśmy', 'caly', 'obu', 'Cały', 'godności', 'całkiem', 'Carlitos', 'wieczór', 'Pierwsza', 'niepełnosprawnych', 'szuka', 'kontuzji', 'Poproszę', 'dawna', 'głównie', 'celu', 'Brazylia', 'Mnie', 'ej', '🤦', 'sutannach', 'Cie', 'naszej', 'wrażenia', 'bredni', 'Legią', 'szanuje', 'Wielki', 'pełne', 'Hej', 'gość', 'przechodzi', 'wrócić', '2008', 'fakt', 'przykład', 'należy', '😭', 'fazy', 'problemu', 'napisałem', 'Dziadka', 'musze', 'mówimy', 'Lechia', 'Taka', 'Minister', 'przemówienie', 'patrząc', 'kartka', 'Sam', 'zawodnikiem', '13', 'Aha', 'Że', 'cóż', 'Tyle', 'wielu', 'trwa', 'klubach', 'fazie', 'drogą', 'Hiszpanii', 'Więc', 'MO', 'kupiłam', 'społeczeństwa', 'troche', 'odchodzi', 'DLA', 'Akurat', 'władza', 'sprawy', 'siły', 't', 'PIS', 'ona', 'R', 'polskiego', 'zmieni', 'zapewne', 'Mój', 'wyszedł', 'bede', 'ludziom', 'zdrowie', 'słabe', 'przepraszam', 'Uwaga', 'żonę', 'pola', 'Babci', 'mega', 'zrobili', 'Oto', 'ręki', 'instagramie', 'walczy', 'jedziemy', 'spacer', 'żal', 'podejrzewam', 'Zapraszamy', 'mogło', 'nosi', 'hahaha', 'politykę', 'obejrzeć', 'daj', 'daleko', 'bój', 'pana', 'jedzie', 'krwi', 'musiała', 'pretensje', 'przestań', 'powodzenia', 'Powinni', 'Kiszczak', 'Carrillo', 'Bydgoszczy', 'jechać', 'Raczej', 'argument', 'poprzednich', 'poszedł', 'zdobył', 'Jako', 'ijo', 'Najlepiej', 'MŚ', 'rozmowy', 'cieszyć', 'wygrać', 'czasami', 'Dokładnie', 'cała', 'zwykle', 'członków', 'Wszystkie', 'Haha', 'rządów', 'pierdolę', 'młody', 'M', 'Cristiano', 'tytuł', 'trzymać', 'tygodnia', 'połowie', 'ban', 'c', 'miłego', 'komentarz', 'km', 'stanie', 'potrzebne', 'rzut', 'śmieszne', 'Przynajmniej', 'dziennikarstwo', 'jedyna', 'ktory', 'jadą', 'TVP1', 'musiałam', 'płacić', 'Się', 'osoba', 'dodatku', 'wielka', 'g', 'codziennie', 'wyglądać', 'dziennikarz', 'parę', 'wasz', '😳', 'wyników', 'FAL', 'Piątek', 'Widzisz', 'robicie', 'Zgadza', 'godność', 'pucharach', 'znaczenie', 'tępa', 'niedzielę', 'płaci', 'głupie', 'pies', 'KTOŚ', 'Misiło', 'rodziny', 'upadku', 'rośnie', 'robisz', 'Pazdan', 'Niby', 'Wstyd', 'ręka', 'obecna', 'Wow', 'szyję', 'Wasze', 'rywala', 'koleś', 'zmiana', 'stop', 'Jaruzelski', 'smutne', 'boisku', 'mojej', 'czarny', 'zespołem', 'Chłopie', 'oglądam', 'sprawdza', 'Twoim', 'zapytaj', 'panią', 'prezydenta', 'kadra', 'powiem', 'myślał', 'pierdole', '22', 'Herod', 'jasne', 'nożna', 'komunie', '60', 'chcecie', 'drużynie', 'Szczególnie', 'czymś', 'wyżej', 'dotyczy', 'Ależ', 'atakuje', 'Messiego', 'Myślałem', 'pokazywał', 'pojechał', 'Pytanie', '\\\\\"W', 'oglądał', 'dostępu', 'polskim', 'Wybacz', 'brata', 'bolszewików', 'kwiaty', 'obstawiam', 'przyznać', 'bać', 'dziecka', 'Wrocław', 'Katowice', 'rozumu', 'BezRetuszu', 'trenerów', 'Przestań', 'słychać', 'grze', 'leci', 'zimno', 'strzela', 'pracować', 'włosy', 'najlepszy', 'temperatury', 'mieście', 'kolejki', 'Piotrowicza', 'UstawaDegradacyjna', 'złotych', 'potrafią', 'ponad', 'zrobisz', 'MON', 'znana', 'gejem', 'prowadzi', '80', 'całość', 'głupio', 'wpisy', 'własnego', 'tobą', 'Poczekaj', 'zaufanie', 'kobieta', 'najlepszym', 'prosi', 'minucie', 'Jesli', 'poproszę', 'kochana', 'większości', 'czwartek', 'Pogoń', 'najlepsze', 'GKS', 'potrzeba', 'kartki', 'prezesa', 'poparcia', 'omg', 'uważam', 'niedługo', 'gadać', 'twoim', 'odpisał', 'śmiechu', 'dostała', 'kłamca', 'lizać', 'smakuje', 'najwięcej', 'pomoże', 'statystyki', '1000', 'Zgoda', 'szkoły', 'szacunkiem', 'jestes', 'krzyczy', 'zakupy', 'działają', 'cele', '26', 'sądów', 'komuna', 'mistrzem', 'psiapsi', 'pojęcie', 'przyjdą', 'szansę', 'Przypominam', 'dziwnego', 'spalony', 'egzamin', 'Było', 'Jedno', '😇', 'wraca', 'Wszędzie', 'prawdy', 'kojarzy', 'lipca', 'OK', 'prezydentem', 'VAT', 'Robert', 'derbach', 'pisowska', 'strzelić', 'zaufania', 'zagrania', 'sali', 'honoru', 'Chcesz', '44', 'Najważniejsze', 'Artego', 'odklejenie', 'Mama', 'bierzesz', 'Lechu', 'rodzice', 'porozmawiać', 'zwykły', '23', 'Boguskiego', 'fotki', 'listy', 'testy', 'reprezentacji', 'Były', 'znamy', 'Górnik', 'Zapytaj', 'Polskiego', 'Giertych', 'gdzies', 'kolegów', 'Dzień', 'WOT', 'lekarza', 'polskiej', 'idiotyczne', 'czarne', 'biorą', 'Kibica', 'prędzej', 'poznać', 'wybrany', 'najlepsza', 'wojna', 'ksiądz', 'karę', 'wierzę', 'chciało', 'dyskusji', 'Mitrović', 'Wtedy', 'miłe', 'jesli', 'błędu', 'dużej', 'XDDD', 'kontakt', 'Głowacki', 'finału', 'wolność', 'Dno', 'opozycja', '🐙', 'książki', 'kłamco', 'Lidze', 'Pisdzielstwo', 'puchary', 'wyższe', 'graliśmy', 'podatników', 'dm', 'Najwyższa', 'kredyt', 'gwiazd', 'podpisał', 'tłumaczyć', 'choroby', 'każdej', 'remis', 'samym', '[', 'Fajnie', 'bajki', 'poparcie', 'tygodnie', '2015', 'zmian', 'insta', 'leczyć', 'szczęścia', 'banku', 'niepodległości', 'Gratulacje', 'tvp', 'broń', 'podobało', 'odpowiada', 'największą', 'KTO', 'Sejmie', 'miałeś', 'każda', 'szkole', '2018', 'głosu', 'tekście', 'możecie', 'narazie', 'mean', 'drodze', 'tzn', 'idiotą', 'Fakt', 'pucharowej', 'następny', 'płacz', 'państwo', 'Joanna', 'tata', 'brednie', 'zajebiście', 'matmy', 'propozycję', 'odpowiedź', 'Jagiellonia', 'Chcę', '2,5', 'przeciwko', 'Nigdzie', 'Biedny', 'podobny', 'uwagi', 'akcji', 'dziewczyna', 'Widze', 'większa', '👌', 'dziadka', 'latach', 'Krakowa', 'świnia', 'duży', 'zrób', 'czuję', 'powiesz', 'plan', 'obraz', 'wiedziałem', 'Michał', 'Drużyna', 'of', 'narzekać', 'Kuba', 'wygrali', 'rt', 'h', 'Takich', 'prosze', 'znają', 'gol', 'łże', 'Będą', 'słuchają', 'wersja', 'lustrze', 'Ludzie', 'fejsie', 'Jagiellonią', 'B', 'głowie', 'pójdą', 'zacząć', 'dopóki', 'błędy', 'pięciu', 'standard', 'nacjonalizm', 'Mistrzów', 'Musimy', 'Fajne', 'reklama', '😬', 'OFE', 'gole', 'pojebane', '😒', 'decyzje', 'procent', 'max', 'zła', 'studia', 'robiłam', 'śpiewać', 'oglądałem', 'zrobię', 'pewne', 'śmierci', 'odpowiedz', 'polska', 'sobotę', 'łóżku', 'piłkarze', 'Bez', 'spokoju', 'Wydaje', 'zwycięstwo', 'kibica', 'Xd', 'generalnie', 'warto', 'kolejny', 'Kuchciński', 'Macie', 'prace', 'Info', 'listę', 'miałem', 'dodać', 'wyjść', 'inteligentny', 'Wałęsa', 'wyobrażam', 'korupcje', 'Lechii', 'pasuje', 'kompromituj', 'listopad', 'poradzi', 'dziewczyny', 'kolano', 'klaskać', 'czyta', 'wiecej', 'kocha', 'Nowoczesnej', 'okazało', 'Wiec', 'swoimi', 'składem', 'wypada', 'treningi', '300', 'przykro', 'znaków', 'względu', 'słucha', 'piękny', 'relację', 'jakbyś', '🤷', 'lans', 'główny', 'Tomek', 'rozegrał', 'człowiekiem', 'niejest', 'Koniec', 'pamięci', 'Portugalia', 'pisowski', 'patrzę', 'przyszłość', 'doczekać', 'Macierewicz', 'koncertu', 'samych', 'będziecie', 'Musi', 'skończył', 'starszy', 'ogranicza', 'Koń', 'premier', 'Wiesz', 'wolne', 'Bardziej', 'dziać', 'JESTEM', 'lotnisku', 'podaje', 'Spoko', 'obraża', 'babcię', 'Gdańsku', 'Var', 'IMO', 'zadzwonić', 'Daj', 'jakbym', 'mieszka', 'najpierw', 'kłamie', 'roli', 'indziej', 'zmianę', 'dniu', 'przesadzajmy', 'niczym', 'gdybym']\n"
          ]
        }
      ],
      "source": [
        "print(ft_model.words)"
      ]
    },
    {
      "cell_type": "code",
      "execution_count": null,
      "metadata": {
        "id": "8bYI6uuzL1b6"
      },
      "outputs": [],
      "source": [
        "def cosine_similarity(a, b):\n",
        "    cos_sim = np.dot(a, b)/(np.linalg.norm(a)*np.linalg.norm(b))\n",
        "    return cos_sim"
      ]
    },
    {
      "cell_type": "code",
      "execution_count": null,
      "metadata": {
        "colab": {
          "base_uri": "https://localhost:8080/"
        },
        "id": "FBMcDakHL5yj",
        "outputId": "60034f33-531a-45e3-ef34-5373bf708cab"
      },
      "outputs": [
        {
          "output_type": "execute_result",
          "data": {
            "text/plain": [
              "0.45086494"
            ]
          },
          "metadata": {},
          "execution_count": 112
        }
      ],
      "source": [
        "cosine_similarity(ft_model['duda'],ft_model['kaczyński'])"
      ]
    },
    {
      "cell_type": "code",
      "execution_count": null,
      "metadata": {
        "colab": {
          "base_uri": "https://localhost:8080/"
        },
        "id": "FPQfNr2dOzXl",
        "outputId": "be6599a2-4032-4943-e26e-336a6aa6a857"
      },
      "outputs": [
        {
          "output_type": "execute_result",
          "data": {
            "text/plain": [
              "[(0.8589339852333069, 'da'),\n",
              " (0.7876693606376648, 'Duda'),\n",
              " (0.7834876179695129, 'dupa'),\n",
              " (0.7483006715774536, 'Zgoda'),\n",
              " (0.719277024269104, 'dupę'),\n",
              " (0.6951697468757629, 'tępa'),\n",
              " (0.6792673468589783, 'dawna'),\n",
              " (0.6130924820899963, 'burdelu'),\n",
              " (0.6128621697425842, 'kasa'),\n",
              " (0.6088149547576904, 'Kuba')]"
            ]
          },
          "metadata": {},
          "execution_count": 113
        }
      ],
      "source": [
        "ft_model.get_nearest_neighbors('duda') #podobne słowa "
      ]
    },
    {
      "cell_type": "code",
      "execution_count": null,
      "metadata": {
        "colab": {
          "base_uri": "https://localhost:8080/"
        },
        "id": "KwOlU0ORO6f9",
        "outputId": "7d7eca83-64a7-46ba-d44d-cdb814531ad8"
      },
      "outputs": [
        {
          "output_type": "execute_result",
          "data": {
            "text/plain": [
              "[(0.6687583923339844, 'kobiet'),\n",
              " (0.6450343728065491, 'kobiety'),\n",
              " (0.6105153560638428, 'kobieto'),\n",
              " (0.5839511752128601, 'zrób'),\n",
              " (0.577655017375946, 'budżetu'),\n",
              " (0.5660333037376404, 'dividetourwarsaw'),\n",
              " (0.5624083280563354, 'polityk'),\n",
              " (0.5603219270706177, 'politykę'),\n",
              " (0.52825528383255, 'niepodległości'),\n",
              " (0.5275274515151978, 'robicie')]"
            ]
          },
          "metadata": {},
          "execution_count": 114
        }
      ],
      "source": [
        "ft_model.get_analogies(\"informatyk\", \"mężczyzna\", \"kobieta\")"
      ]
    },
    {
      "cell_type": "code",
      "execution_count": null,
      "metadata": {
        "id": "ItEPkj0TJhAb"
      },
      "outputs": [],
      "source": [
        "ft_classifier = fasttext.train_supervised(input=\"train_data.txt\", epoch = 100) # Trenowanie klasyfikatora fasttext przy uzyciu supervised learning na zbiorze treningowym"
      ]
    },
    {
      "cell_type": "code",
      "execution_count": null,
      "metadata": {
        "colab": {
          "base_uri": "https://localhost:8080/"
        },
        "id": "tCe14CZdJvrM",
        "outputId": "87776558-b10e-4ec3-8453-3be17ae40792"
      },
      "outputs": [
        {
          "output_type": "execute_result",
          "data": {
            "text/plain": [
              "(2008, 0.9267928286852589, 0.9267928286852589)"
            ]
          },
          "metadata": {},
          "execution_count": 116
        }
      ],
      "source": [
        "ft_classifier.test('test_data.txt') # testowanie klasyfikatora w oparciu o dane ze zbioru treningowego"
      ]
    },
    {
      "cell_type": "markdown",
      "metadata": {
        "id": "UVCkf75FUHbN"
      },
      "source": [
        "WORD2VEC"
      ]
    },
    {
      "cell_type": "code",
      "execution_count": null,
      "metadata": {
        "colab": {
          "base_uri": "https://localhost:8080/"
        },
        "id": "WkbUM7Malinx",
        "outputId": "a0d6b528-b5c2-4d32-8ecf-0954eeef4ce0"
      },
      "outputs": [
        {
          "output_type": "execute_result",
          "data": {
            "text/plain": [
              "10041"
            ]
          },
          "metadata": {},
          "execution_count": 52
        }
      ],
      "source": [
        "tokenised_data = []\n",
        "tokenised_data += [spacy_tokeniser(sent) for sent in df_train['sentence'].to_list()]\n",
        "\n",
        "len(tokenised_data)"
      ]
    },
    {
      "cell_type": "code",
      "execution_count": null,
      "metadata": {
        "colab": {
          "base_uri": "https://localhost:8080/"
        },
        "id": "eZe8zY3Gl8XS",
        "outputId": "d4330236-b5c7-4ec7-8f0a-2e0285bf7d45"
      },
      "outputs": [
        {
          "data": {
            "text/plain": [
              "['Dla',\n",
              " 'mnie',\n",
              " 'faworytem',\n",
              " 'do',\n",
              " 'tytułu',\n",
              " 'będzie',\n",
              " 'Cracovia',\n",
              " '.',\n",
              " 'Zobaczymy',\n",
              " ',',\n",
              " 'czy',\n",
              " 'typ',\n",
              " 'się',\n",
              " 'sprawdzi',\n",
              " '.']"
            ]
          },
          "execution_count": 167,
          "metadata": {},
          "output_type": "execute_result"
        }
      ],
      "source": [
        "tokenised_data[0]"
      ]
    },
    {
      "cell_type": "code",
      "execution_count": null,
      "metadata": {
        "colab": {
          "background_save": true
        },
        "id": "Z9SW0RD1mEGr",
        "outputId": "c0e90b62-d82f-4443-d9f0-382d92583b6e"
      },
      "outputs": [
        {
          "data": {
            "text/plain": [
              "(88092223, 143029000)"
            ]
          },
          "execution_count": null,
          "metadata": {},
          "output_type": "execute_result"
        }
      ],
      "source": [
        "# Inicjalizacja i trenowanie modelu word2vec\n",
        "\n",
        "from gensim.models import Word2Vec\n",
        "\n",
        "# inicjalizujemy model, dla którego wejściem jest lista tokenised_data\n",
        "# okno kontekstowe ma rozmiar 3\n",
        "# odrzucamy słowa rzadkie (mające mniej niż 2 wystąpienia)\n",
        "# workers=1 oznacza, że nie zrównoleglamy trenowania (przyspiesza trenowania w przypadku dużego zbioru treningowego)\n",
        "model_w2v = Word2Vec(tokenised_data, window=3, min_count=2)\n",
        "model_w2v.train(tokenised_data, total_examples=len(tokenised_data), epochs=1000)"
      ]
    },
    {
      "cell_type": "code",
      "execution_count": null,
      "metadata": {
        "colab": {
          "background_save": true
        },
        "id": "oiC-Gj7MmNEz",
        "outputId": "ae56e4f0-fec6-41b5-cca7-07718d4dcc44"
      },
      "outputs": [
        {
          "data": {
            "text/plain": [
              "[('masz', 0.6778663),\n",
              " ('o', 0.15256798),\n",
              " ('jutro', 0.11399256),\n",
              " ('Dlaczego', 0.042884484),\n",
              " ('domu', 0.002552663),\n",
              " ('dobrze', 0.002403352),\n",
              " ('nazywa', 0.0015005314),\n",
              " ('niedługo', 0.00086311385),\n",
              " ('za', 0.0005715153),\n",
              " ('mam', 0.00032418763)]"
            ]
          },
          "execution_count": null,
          "metadata": {},
          "output_type": "execute_result"
        }
      ],
      "source": [
        "model_w2v.predict_output_word([\"pociąg\"])"
      ]
    },
    {
      "cell_type": "code",
      "execution_count": null,
      "metadata": {
        "colab": {
          "background_save": true
        },
        "id": "g7sg_B4ZmSJD"
      },
      "outputs": [],
      "source": [
        "w2v2 = model_w2v.wv"
      ]
    },
    {
      "cell_type": "code",
      "execution_count": null,
      "metadata": {
        "colab": {
          "background_save": true
        },
        "id": "Sc7Hw154mgOU",
        "outputId": "02b121fc-1730-4614-e278-d6c7e596df7b"
      },
      "outputs": [
        {
          "data": {
            "text/plain": [
              "[('scena', 0.3957064151763916),\n",
              " ('wyjść', 0.3914053440093994),\n",
              " ('godności', 0.38523566722869873),\n",
              " ('WISŁA', 0.3693441152572632),\n",
              " ('pieska', 0.3562132716178894),\n",
              " ('Liga', 0.3550335764884949),\n",
              " ('książka', 0.3533662259578705),\n",
              " ('marsz', 0.35069501399993896),\n",
              " ('urojenia', 0.3504752516746521),\n",
              " ('honoru', 0.3502483069896698)]"
            ]
          },
          "execution_count": null,
          "metadata": {},
          "output_type": "execute_result"
        }
      ],
      "source": [
        "w2v2.most_similar('kobieta')"
      ]
    },
    {
      "cell_type": "code",
      "execution_count": null,
      "metadata": {
        "colab": {
          "background_save": true
        },
        "id": "eZ6Wy8D1ms7G",
        "outputId": "399ff96e-ae29-450b-830e-d4a2b10fcd4c"
      },
      "outputs": [
        {
          "name": "stderr",
          "output_type": "stream",
          "text": [
            "/usr/local/lib/python3.7/dist-packages/gensim/models/keyedvectors.py:895: FutureWarning: arrays to stack must be passed as a \"sequence\" type such as list or tuple. Support for non-sequence iterables such as generators is deprecated as of NumPy 1.16 and will raise an error in the future.\n",
            "  vectors = vstack(self.word_vec(word, use_norm=True) for word in used_words).astype(REAL)\n"
          ]
        },
        {
          "data": {
            "application/vnd.google.colaboratory.intrinsic+json": {
              "type": "string"
            },
            "text/plain": [
              "'kobieta'"
            ]
          },
          "execution_count": null,
          "metadata": {},
          "output_type": "execute_result"
        }
      ],
      "source": [
        "w2v2.doesnt_match(['kobieta',  'mężczyzna', 'mężczyźnie', 'kobiecie'])"
      ]
    },
    {
      "cell_type": "code",
      "execution_count": null,
      "metadata": {
        "colab": {
          "background_save": true
        },
        "id": "QCeQTp5b-_ud"
      },
      "outputs": [],
      "source": [
        ""
      ]
    },
    {
      "cell_type": "code",
      "execution_count": null,
      "metadata": {
        "colab": {
          "background_save": true
        },
        "id": "pgYHR3I_KLpk"
      },
      "outputs": [],
      "source": [
        ""
      ]
    }
  ],
  "metadata": {
    "colab": {
      "collapsed_sections": [],
      "name": "Untitled0.ipynb",
      "provenance": []
    },
    "kernelspec": {
      "display_name": "Python 3",
      "name": "python3"
    },
    "language_info": {
      "name": "python"
    }
  },
  "nbformat": 4,
  "nbformat_minor": 0
}